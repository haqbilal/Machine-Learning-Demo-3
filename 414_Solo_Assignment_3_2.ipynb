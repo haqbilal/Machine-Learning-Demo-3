{
  "cells": [
    {
      "cell_type": "markdown",
      "metadata": {
        "id": "ZBQjOo49-ilX"
      },
      "source": [
        "# Changelog:\n",
        "\n",
        "Last Update: 2022-03-20\n",
        "\n",
        "Changes:\n",
        "\n",
        "1. token_to_index returns `vocab[token]`\n",
        "2. Improve doscstring for `create_vocab`"
      ]
    },
    {
      "cell_type": "markdown",
      "metadata": {
        "id": "q84Rhsk6FOWx"
      },
      "source": [
        "# Question 2: Natural Language Processing\n",
        "\n",
        "### Total Points: 46\n",
        "\n",
        "### Background:\n",
        "In this question you will fit a set of models with the goal of predicting which text messages (SMS) are spam and which are not. \n",
        "\n",
        "You will be experimenting with a variety of different embedding algorithms followed by Logistic Regression."
      ]
    },
    {
      "cell_type": "code",
      "execution_count": null,
      "metadata": {
        "colab": {
          "base_uri": "https://localhost:8080/"
        },
        "id": "-_9JVHlrC4sg",
        "outputId": "bae05a2d-928f-407f-8b09-d9d21730e903"
      },
      "outputs": [
        {
          "name": "stdout",
          "output_type": "stream",
          "text": [
            "Requirement already satisfied: datasets in /usr/local/lib/python3.7/dist-packages (2.0.0)\n",
            "Requirement already satisfied: fsspec[http]>=2021.05.0 in /usr/local/lib/python3.7/dist-packages (from datasets) (2022.2.0)\n",
            "Requirement already satisfied: importlib-metadata in /usr/local/lib/python3.7/dist-packages (from datasets) (4.11.3)\n",
            "Requirement already satisfied: tqdm>=4.62.1 in /usr/local/lib/python3.7/dist-packages (from datasets) (4.63.0)\n",
            "Requirement already satisfied: responses<0.19 in /usr/local/lib/python3.7/dist-packages (from datasets) (0.18.0)\n",
            "Requirement already satisfied: dill in /usr/local/lib/python3.7/dist-packages (from datasets) (0.3.4)\n",
            "Requirement already satisfied: huggingface-hub<1.0.0,>=0.1.0 in /usr/local/lib/python3.7/dist-packages (from datasets) (0.4.0)\n",
            "Requirement already satisfied: requests>=2.19.0 in /usr/local/lib/python3.7/dist-packages (from datasets) (2.23.0)\n",
            "Requirement already satisfied: xxhash in /usr/local/lib/python3.7/dist-packages (from datasets) (3.0.0)\n",
            "Requirement already satisfied: numpy>=1.17 in /usr/local/lib/python3.7/dist-packages (from datasets) (1.21.5)\n",
            "Requirement already satisfied: pyarrow>=5.0.0 in /usr/local/lib/python3.7/dist-packages (from datasets) (6.0.1)\n",
            "Requirement already satisfied: multiprocess in /usr/local/lib/python3.7/dist-packages (from datasets) (0.70.12.2)\n",
            "Requirement already satisfied: aiohttp in /usr/local/lib/python3.7/dist-packages (from datasets) (3.8.1)\n",
            "Requirement already satisfied: pandas in /usr/local/lib/python3.7/dist-packages (from datasets) (1.3.5)\n",
            "Requirement already satisfied: packaging in /usr/local/lib/python3.7/dist-packages (from datasets) (21.3)\n",
            "Requirement already satisfied: typing-extensions>=3.7.4.3 in /usr/local/lib/python3.7/dist-packages (from huggingface-hub<1.0.0,>=0.1.0->datasets) (3.10.0.2)\n",
            "Requirement already satisfied: pyyaml in /usr/local/lib/python3.7/dist-packages (from huggingface-hub<1.0.0,>=0.1.0->datasets) (6.0)\n",
            "Requirement already satisfied: filelock in /usr/local/lib/python3.7/dist-packages (from huggingface-hub<1.0.0,>=0.1.0->datasets) (3.6.0)\n",
            "Requirement already satisfied: pyparsing!=3.0.5,>=2.0.2 in /usr/local/lib/python3.7/dist-packages (from packaging->datasets) (3.0.7)\n",
            "Requirement already satisfied: idna<3,>=2.5 in /usr/local/lib/python3.7/dist-packages (from requests>=2.19.0->datasets) (2.10)\n",
            "Requirement already satisfied: certifi>=2017.4.17 in /usr/local/lib/python3.7/dist-packages (from requests>=2.19.0->datasets) (2021.10.8)\n",
            "Requirement already satisfied: urllib3!=1.25.0,!=1.25.1,<1.26,>=1.21.1 in /usr/local/lib/python3.7/dist-packages (from requests>=2.19.0->datasets) (1.25.11)\n",
            "Requirement already satisfied: chardet<4,>=3.0.2 in /usr/local/lib/python3.7/dist-packages (from requests>=2.19.0->datasets) (3.0.4)\n",
            "Requirement already satisfied: multidict<7.0,>=4.5 in /usr/local/lib/python3.7/dist-packages (from aiohttp->datasets) (6.0.2)\n",
            "Requirement already satisfied: aiosignal>=1.1.2 in /usr/local/lib/python3.7/dist-packages (from aiohttp->datasets) (1.2.0)\n",
            "Requirement already satisfied: asynctest==0.13.0 in /usr/local/lib/python3.7/dist-packages (from aiohttp->datasets) (0.13.0)\n",
            "Requirement already satisfied: yarl<2.0,>=1.0 in /usr/local/lib/python3.7/dist-packages (from aiohttp->datasets) (1.7.2)\n",
            "Requirement already satisfied: attrs>=17.3.0 in /usr/local/lib/python3.7/dist-packages (from aiohttp->datasets) (21.4.0)\n",
            "Requirement already satisfied: frozenlist>=1.1.1 in /usr/local/lib/python3.7/dist-packages (from aiohttp->datasets) (1.3.0)\n",
            "Requirement already satisfied: charset-normalizer<3.0,>=2.0 in /usr/local/lib/python3.7/dist-packages (from aiohttp->datasets) (2.0.12)\n",
            "Requirement already satisfied: async-timeout<5.0,>=4.0.0a3 in /usr/local/lib/python3.7/dist-packages (from aiohttp->datasets) (4.0.2)\n",
            "Requirement already satisfied: zipp>=0.5 in /usr/local/lib/python3.7/dist-packages (from importlib-metadata->datasets) (3.7.0)\n",
            "Requirement already satisfied: python-dateutil>=2.7.3 in /usr/local/lib/python3.7/dist-packages (from pandas->datasets) (2.8.2)\n",
            "Requirement already satisfied: pytz>=2017.3 in /usr/local/lib/python3.7/dist-packages (from pandas->datasets) (2018.9)\n",
            "Requirement already satisfied: six>=1.5 in /usr/local/lib/python3.7/dist-packages (from python-dateutil>=2.7.3->pandas->datasets) (1.15.0)\n",
            "Collecting en_core_web_md==2.2.5\n",
            "  Downloading https://github.com/explosion/spacy-models/releases/download/en_core_web_md-2.2.5/en_core_web_md-2.2.5.tar.gz (96.4 MB)\n",
            "\u001b[K     |████████████████████████████████| 96.4 MB 1.2 MB/s \n",
            "\u001b[?25hRequirement already satisfied: spacy>=2.2.2 in /usr/local/lib/python3.7/dist-packages (from en_core_web_md==2.2.5) (2.2.4)\n",
            "Requirement already satisfied: srsly<1.1.0,>=1.0.2 in /usr/local/lib/python3.7/dist-packages (from spacy>=2.2.2->en_core_web_md==2.2.5) (1.0.5)\n",
            "Requirement already satisfied: requests<3.0.0,>=2.13.0 in /usr/local/lib/python3.7/dist-packages (from spacy>=2.2.2->en_core_web_md==2.2.5) (2.23.0)\n",
            "Requirement already satisfied: plac<1.2.0,>=0.9.6 in /usr/local/lib/python3.7/dist-packages (from spacy>=2.2.2->en_core_web_md==2.2.5) (1.1.3)\n",
            "Requirement already satisfied: blis<0.5.0,>=0.4.0 in /usr/local/lib/python3.7/dist-packages (from spacy>=2.2.2->en_core_web_md==2.2.5) (0.4.1)\n",
            "Requirement already satisfied: wasabi<1.1.0,>=0.4.0 in /usr/local/lib/python3.7/dist-packages (from spacy>=2.2.2->en_core_web_md==2.2.5) (0.9.0)\n",
            "Requirement already satisfied: tqdm<5.0.0,>=4.38.0 in /usr/local/lib/python3.7/dist-packages (from spacy>=2.2.2->en_core_web_md==2.2.5) (4.63.0)\n",
            "Requirement already satisfied: murmurhash<1.1.0,>=0.28.0 in /usr/local/lib/python3.7/dist-packages (from spacy>=2.2.2->en_core_web_md==2.2.5) (1.0.6)\n",
            "Requirement already satisfied: numpy>=1.15.0 in /usr/local/lib/python3.7/dist-packages (from spacy>=2.2.2->en_core_web_md==2.2.5) (1.21.5)\n",
            "Requirement already satisfied: cymem<2.1.0,>=2.0.2 in /usr/local/lib/python3.7/dist-packages (from spacy>=2.2.2->en_core_web_md==2.2.5) (2.0.6)\n",
            "Requirement already satisfied: catalogue<1.1.0,>=0.0.7 in /usr/local/lib/python3.7/dist-packages (from spacy>=2.2.2->en_core_web_md==2.2.5) (1.0.0)\n",
            "Requirement already satisfied: preshed<3.1.0,>=3.0.2 in /usr/local/lib/python3.7/dist-packages (from spacy>=2.2.2->en_core_web_md==2.2.5) (3.0.6)\n",
            "Requirement already satisfied: setuptools in /usr/local/lib/python3.7/dist-packages (from spacy>=2.2.2->en_core_web_md==2.2.5) (57.4.0)\n",
            "Requirement already satisfied: thinc==7.4.0 in /usr/local/lib/python3.7/dist-packages (from spacy>=2.2.2->en_core_web_md==2.2.5) (7.4.0)\n",
            "Requirement already satisfied: importlib-metadata>=0.20 in /usr/local/lib/python3.7/dist-packages (from catalogue<1.1.0,>=0.0.7->spacy>=2.2.2->en_core_web_md==2.2.5) (4.11.3)\n",
            "Requirement already satisfied: zipp>=0.5 in /usr/local/lib/python3.7/dist-packages (from importlib-metadata>=0.20->catalogue<1.1.0,>=0.0.7->spacy>=2.2.2->en_core_web_md==2.2.5) (3.7.0)\n",
            "Requirement already satisfied: typing-extensions>=3.6.4 in /usr/local/lib/python3.7/dist-packages (from importlib-metadata>=0.20->catalogue<1.1.0,>=0.0.7->spacy>=2.2.2->en_core_web_md==2.2.5) (3.10.0.2)\n",
            "Requirement already satisfied: chardet<4,>=3.0.2 in /usr/local/lib/python3.7/dist-packages (from requests<3.0.0,>=2.13.0->spacy>=2.2.2->en_core_web_md==2.2.5) (3.0.4)\n",
            "Requirement already satisfied: idna<3,>=2.5 in /usr/local/lib/python3.7/dist-packages (from requests<3.0.0,>=2.13.0->spacy>=2.2.2->en_core_web_md==2.2.5) (2.10)\n",
            "Requirement already satisfied: certifi>=2017.4.17 in /usr/local/lib/python3.7/dist-packages (from requests<3.0.0,>=2.13.0->spacy>=2.2.2->en_core_web_md==2.2.5) (2021.10.8)\n",
            "Requirement already satisfied: urllib3!=1.25.0,!=1.25.1,<1.26,>=1.21.1 in /usr/local/lib/python3.7/dist-packages (from requests<3.0.0,>=2.13.0->spacy>=2.2.2->en_core_web_md==2.2.5) (1.25.11)\n",
            "\u001b[38;5;2m✔ Download and installation successful\u001b[0m\n",
            "You can now load the model via spacy.load('en_core_web_md')\n",
            "Requirement already satisfied: transformers in /usr/local/lib/python3.7/dist-packages (4.17.0)\n",
            "Requirement already satisfied: pyyaml>=5.1 in /usr/local/lib/python3.7/dist-packages (from transformers) (6.0)\n",
            "Requirement already satisfied: numpy>=1.17 in /usr/local/lib/python3.7/dist-packages (from transformers) (1.21.5)\n",
            "Requirement already satisfied: sacremoses in /usr/local/lib/python3.7/dist-packages (from transformers) (0.0.49)\n",
            "Requirement already satisfied: tokenizers!=0.11.3,>=0.11.1 in /usr/local/lib/python3.7/dist-packages (from transformers) (0.11.6)\n",
            "Requirement already satisfied: huggingface-hub<1.0,>=0.1.0 in /usr/local/lib/python3.7/dist-packages (from transformers) (0.4.0)\n",
            "Requirement already satisfied: regex!=2019.12.17 in /usr/local/lib/python3.7/dist-packages (from transformers) (2019.12.20)\n",
            "Requirement already satisfied: packaging>=20.0 in /usr/local/lib/python3.7/dist-packages (from transformers) (21.3)\n",
            "Requirement already satisfied: requests in /usr/local/lib/python3.7/dist-packages (from transformers) (2.23.0)\n",
            "Requirement already satisfied: importlib-metadata in /usr/local/lib/python3.7/dist-packages (from transformers) (4.11.3)\n",
            "Requirement already satisfied: tqdm>=4.27 in /usr/local/lib/python3.7/dist-packages (from transformers) (4.63.0)\n",
            "Requirement already satisfied: filelock in /usr/local/lib/python3.7/dist-packages (from transformers) (3.6.0)\n",
            "Requirement already satisfied: typing-extensions>=3.7.4.3 in /usr/local/lib/python3.7/dist-packages (from huggingface-hub<1.0,>=0.1.0->transformers) (3.10.0.2)\n",
            "Requirement already satisfied: pyparsing!=3.0.5,>=2.0.2 in /usr/local/lib/python3.7/dist-packages (from packaging>=20.0->transformers) (3.0.7)\n",
            "Requirement already satisfied: zipp>=0.5 in /usr/local/lib/python3.7/dist-packages (from importlib-metadata->transformers) (3.7.0)\n",
            "Requirement already satisfied: idna<3,>=2.5 in /usr/local/lib/python3.7/dist-packages (from requests->transformers) (2.10)\n",
            "Requirement already satisfied: chardet<4,>=3.0.2 in /usr/local/lib/python3.7/dist-packages (from requests->transformers) (3.0.4)\n",
            "Requirement already satisfied: urllib3!=1.25.0,!=1.25.1,<1.26,>=1.21.1 in /usr/local/lib/python3.7/dist-packages (from requests->transformers) (1.25.11)\n",
            "Requirement already satisfied: certifi>=2017.4.17 in /usr/local/lib/python3.7/dist-packages (from requests->transformers) (2021.10.8)\n",
            "Requirement already satisfied: joblib in /usr/local/lib/python3.7/dist-packages (from sacremoses->transformers) (1.1.0)\n",
            "Requirement already satisfied: six in /usr/local/lib/python3.7/dist-packages (from sacremoses->transformers) (1.15.0)\n",
            "Requirement already satisfied: click in /usr/local/lib/python3.7/dist-packages (from sacremoses->transformers) (7.1.2)\n"
          ]
        }
      ],
      "source": [
        "!pip install datasets\n",
        "!python -m spacy download en_core_web_md\n",
        "!pip install transformers"
      ]
    },
    {
      "cell_type": "markdown",
      "metadata": {
        "id": "9mbhj24iFMEJ"
      },
      "source": [
        "## Data Loading, Exploratory Data Analysis and Vocabulary Creation:\n"
      ]
    },
    {
      "cell_type": "code",
      "execution_count": null,
      "metadata": {
        "id": "zDe_6kaRCfWs"
      },
      "outputs": [],
      "source": [
        "from datasets import load_dataset\n",
        "from sklearn.model_selection import train_test_split\n",
        "from sklearn.feature_extraction.text import CountVectorizer, TfidfVectorizer, TfidfTransformer\n",
        "from typing import List\n",
        "import numpy as np \n",
        "import pandas as pd\n",
        "from tqdm import tqdm\n",
        "import torch\n",
        "np.random.seed(42)"
      ]
    },
    {
      "cell_type": "code",
      "execution_count": null,
      "metadata": {
        "colab": {
          "base_uri": "https://localhost:8080/",
          "height": 66,
          "referenced_widgets": [
            "47ecf0729e0e4254b9e8ee8799046881",
            "096cf2df2a6d4528abeb278a9052a2e3",
            "2a80b85e68ad4282ba783c797609f0b7",
            "f2e46b810c2f418fb03425f4d340a1ff",
            "efe8416bb61f48f2a2ea5a9577eaf9e5",
            "286c0d606def4bef863dce56c054edf3",
            "2e6a5649710f4bf8b2c070f1d3062ff9",
            "90e1adccc17d4be18d4b2acd45781920",
            "6c14746adc894090ab69ed81222578d6",
            "1c0e7c008f8a4c01a2687786c953c987",
            "1349f6db6f404b85bb78e86f5b55bff9"
          ]
        },
        "id": "Z-YrzSxEC2Hq",
        "outputId": "f6503d87-7cc6-4879-d91b-3975adaa4698"
      },
      "outputs": [
        {
          "name": "stderr",
          "output_type": "stream",
          "text": [
            "Reusing dataset sms_spam (/root/.cache/huggingface/datasets/sms_spam/plain_text/1.0.0/53f051d3b5f62d99d61792c91acefe4f1577ad3e4c216fb0ad39e30b9f20019c)\n"
          ]
        },
        {
          "data": {
            "application/vnd.jupyter.widget-view+json": {
              "model_id": "47ecf0729e0e4254b9e8ee8799046881",
              "version_major": 2,
              "version_minor": 0
            },
            "text/plain": [
              "  0%|          | 0/1 [00:00<?, ?it/s]"
            ]
          },
          "metadata": {},
          "output_type": "display_data"
        }
      ],
      "source": [
        "dataset = load_dataset(\"sms_spam\")\n",
        "texts = [x[\"sms\"] for x in dataset[\"train\"]]\n",
        "labels = [x[\"label\"] for x in dataset[\"train\"]]"
      ]
    },
    {
      "cell_type": "code",
      "execution_count": null,
      "metadata": {
        "id": "X523_TcvC_4S"
      },
      "outputs": [],
      "source": [
        "X_train, X_m, y_train, y_m = train_test_split(texts, labels, test_size=0.3, random_state=0)\n",
        "X_val, X_test, y_val, y_test = train_test_split(X_m, y_m, test_size = 0.5, random_state=0)"
      ]
    },
    {
      "cell_type": "code",
      "execution_count": null,
      "metadata": {
        "id": "4-MHbxEmE2Hr"
      },
      "outputs": [],
      "source": [
        "def tokenize(x:str) -> List[str]:\n",
        "  \"\"\"\n",
        "  Takes string as an input and returns a list of tokens. This just splits the string x on whitespace\n",
        "  \"\"\"\n",
        "  return x.lower().split(\" \")"
      ]
    },
    {
      "cell_type": "markdown",
      "metadata": {
        "id": "MWyKRONCVFYD"
      },
      "source": [
        "##[ 5 points ] Q2.a: Determine / Answer the following: \n",
        "\n",
        "*   How many datapoints are in the training set?\n",
        "*   How many total tokens are there in the data?\n",
        "*   What % of training examples are spam?\n",
        "*   What would the accuracy be if for every datapoint we predict it is spam? (explain)\n",
        "\n",
        "\n",
        "\n"
      ]
    },
    {
      "cell_type": "markdown",
      "metadata": {
        "id": "un_LMIlBBZu1"
      },
      "source": [
        "*   2 features in 5574 rows for a total of 11148 datapoints.\n",
        "*   There are 14,856 unique tokens\n",
        "*   Approximately 13.4% of the training exmaples are spam\n",
        "*   The accuracy would be approximately 13.4% because we accurately classify all of these spams and none of the non spam cases"
      ]
    },
    {
      "cell_type": "markdown",
      "metadata": {
        "id": "nS6ufPCtGwQp"
      },
      "source": [
        "##[4 points ] Q2.b Vocabulary and Frequencies  "
      ]
    },
    {
      "cell_type": "markdown",
      "metadata": {
        "id": "jyKQsSieGzDk"
      },
      "source": [
        "Implement the functions `create_count_dict`, and `create_vocab` below that take as input a dataset (list of untokenized strings - one per datapoint), and an integer representing the desired vocabulary size, and returns the vocabulary as a `dict` whose keys are tokens and whose values are indices."
      ]
    },
    {
      "cell_type": "code",
      "execution_count": null,
      "metadata": {
        "id": "ACy4z8-oGSEp"
      },
      "outputs": [],
      "source": [
        "def create_count_dict(dataset:List[str]) -> dict:\n",
        "  \"\"\"\n",
        "  Given a dataset, returns a dictionary of token counts with tokens being keys, and counts being values\n",
        "  \"\"\"\n",
        "  count_dict = {}\n",
        "\n",
        "  vectorizer = CountVectorizer()\n",
        "  X = vectorizer.fit_transform(dataset)\n",
        "  lst = vectorizer.get_feature_names_out()\n",
        "  x_arr = X.toarray()\n",
        "\n",
        "  for i in range(len(lst)):\n",
        "    count_dict[lst[i]] = np.sum(x_arr[:, i])\n",
        "\n",
        "  return count_dict\n",
        "\n",
        "def create_vocab(dataset:List[str], vocab_size:int) -> dict:\n",
        "  \"\"\"\n",
        "  Given a dataset, returns a dictionary with tokens as keys and indices as values.\n",
        "\n",
        "  {\"most_common_token\": 0, \"second_most_common_token\": 1, ...}\n",
        "  \"\"\"\n",
        "\n",
        "  # 1. Determine the count of all words\n",
        "  count_dict = create_count_dict(dataset)\n",
        "\n",
        "  # 2. Keep the top <vocab_size> tokens\n",
        "  top = {}\n",
        "  copy = count_dict.copy()\n",
        "  for i in range(vocab_size):\n",
        "      k = max(copy, key=copy.get)\n",
        "      top[k] = i\n",
        "      del copy[k] # delete the key we just took\n",
        "\n",
        "  # 3. Create the token to index dict and fill it with just the top tokens\n",
        "  vocab_to_index_dict = top.copy()\n",
        "  \n",
        "  return vocab_to_index_dict"
      ]
    },
    {
      "cell_type": "code",
      "execution_count": null,
      "metadata": {
        "id": "ZWgGXqOtnXaU"
      },
      "outputs": [],
      "source": [
        "# Helper test to at least ensure the constructed vocab is the right size\n",
        "for i in np.random.randint(low = 100, high = 500, size = 5):\n",
        "  assert(len(create_vocab(X_train, vocab_size = i)) == i)"
      ]
    },
    {
      "cell_type": "code",
      "execution_count": null,
      "metadata": {
        "id": "CawjqIMXd3X3"
      },
      "outputs": [],
      "source": [
        "# Create and save your vocab\n",
        "student_created_count_dict = create_count_dict(X_train)\n",
        "student_created_vocab = create_vocab(X_train, vocab_size = 500)"
      ]
    },
    {
      "cell_type": "markdown",
      "metadata": {
        "id": "Mx3Q8FkdrDpJ"
      },
      "source": [
        "##[4 points] Q2.c Token Counts"
      ]
    },
    {
      "cell_type": "markdown",
      "metadata": {
        "id": "uns15d63rJS1"
      },
      "source": [
        "### Q2.c.a  Is the distribution of token counts below a relatively heavy-tailed distribution?  Would using only the top 30 tokens be sufficient for most applications?"
      ]
    },
    {
      "cell_type": "code",
      "execution_count": null,
      "metadata": {
        "id": "9F3Sc2vtrBCa"
      },
      "outputs": [],
      "source": [
        "def visualize_top_token_distribution(count_dict, num_tokens_to_plot):\n",
        "  \"\"\"\n",
        "  Display a barplot of counts of top <num_tokens_to_plot> tokens in the <count_dict>\n",
        "  \"\"\"\n",
        "  df = pd.DataFrame(data={\"token\": [key for key, _ in count_dict.items()], \"count\": [value for _, value in count_dict.items()]}).sort_values(\"count\", ascending=False)\n",
        "  df[:num_tokens_to_plot].plot(x = \"token\", y = \"count\", kind=\"bar\")"
      ]
    },
    {
      "cell_type": "code",
      "execution_count": null,
      "metadata": {
        "colab": {
          "base_uri": "https://localhost:8080/",
          "height": 288
        },
        "id": "FFGiXJuQrfHw",
        "outputId": "1b660b61-4042-4ec1-86b3-880a5499976c"
      },
      "outputs": [
        {
          "data": {
            "image/png": "[encoded data removed]",
            "text/plain": [
              "<Figure size 432x288 with 1 Axes>"
            ]
          },
          "metadata": {
            "needs_background": "light"
          },
          "output_type": "display_data"
        }
      ],
      "source": [
        "visualize_top_token_distribution(student_created_count_dict, 10)"
      ]
    },
    {
      "cell_type": "code",
      "execution_count": null,
      "metadata": {
        "colab": {
          "base_uri": "https://localhost:8080/",
          "height": 294
        },
        "id": "Bzx51_xpskwS",
        "outputId": "972e8d0f-1c6d-4402-d48d-efe5ce461709"
      },
      "outputs": [
        {
          "data": {
            "image/png": "[encoded data removed]",
            "text/plain": [
              "<Figure size 432x288 with 1 Axes>"
            ]
          },
          "metadata": {
            "needs_background": "light"
          },
          "output_type": "display_data"
        }
      ],
      "source": [
        "visualize_top_token_distribution(student_created_count_dict, 30)"
      ]
    },
    {
      "cell_type": "code",
      "execution_count": null,
      "metadata": {
        "colab": {
          "base_uri": "https://localhost:8080/",
          "height": 303
        },
        "id": "3n6QenP-smAd",
        "outputId": "29375581-e5fa-431c-f342-cfade1c8921f"
      },
      "outputs": [
        {
          "data": {
            "image/png": "[encoded data removed]",
            "text/plain": [
              "<Figure size 432x288 with 1 Axes>"
            ]
          },
          "metadata": {
            "needs_background": "light"
          },
          "output_type": "display_data"
        }
      ],
      "source": [
        "visualize_top_token_distribution(student_created_count_dict, 100)"
      ]
    },
    {
      "cell_type": "markdown",
      "metadata": {
        "id": "S4woSRLSt6bt"
      },
      "source": [
        "### Q2.c.b [2 points] Take a look at the top 10 tokens in the plot above, do you think the embeddings based on those tokens will be informative for our task?\n"
      ]
    },
    {
      "cell_type": "markdown",
      "metadata": {
        "id": "QZCCCcILuG5N"
      },
      "source": [
        "* The distribution of token counts is a relatively heavy (left) tailed distribution. Since token counts decrease drastically, using the top 30 would be sufficient for most applications.\n",
        "\n",
        "* Embeddings based on the top 10 tokens will not be informative to detecting spam in text messages, because most texts will contain these tokens whether or not they are spam. As a result, we gain no new information."
      ]
    },
    {
      "cell_type": "markdown",
      "metadata": {
        "id": "Zx96W-8PtrbV"
      },
      "source": [
        "## Q2.d [ 13 points ] Vocabulary selection and Embeddings"
      ]
    },
    {
      "cell_type": "code",
      "execution_count": null,
      "metadata": {
        "id": "vKCpZXNCH5do"
      },
      "outputs": [],
      "source": [
        "# NOTHING TO DO HERE, JUST SOME CONVENIENCE FUNCTIONS FOR THE FUTURE\n",
        "def index_to_token(index:int, vocabulary:dict) -> str:\n",
        "  \"\"\"\n",
        "  Given an index in the vocabulary, and the vocabulary dict with tokens as keys, and indices as values, returns the token that maps to the given index\n",
        "  \"\"\"\n",
        "  if index > len(vocabulary):\n",
        "    raise ValueError(f\"There is no index {index} in the vocabulary\")\n",
        "  inv_vocabulary = {v: k for k, v in vocabulary.items()}\n",
        "  return inv_vocabulary[index]\n",
        "\n",
        "def token_to_index(token:str, vocabulary:dict) -> int:\n",
        "  \"\"\"\n",
        "  Given a token, return the index of that token in the vocabulary\n",
        "  \"\"\"\n",
        "  index = vocabulary.get(token)\n",
        "  if index is None:\n",
        "    raise ValueError(f\"Token: {token} is not in the vocabulary\")\n",
        "  return index"
      ]
    },
    {
      "cell_type": "code",
      "execution_count": null,
      "metadata": {
        "id": "E5GFTnNtJhgV"
      },
      "outputs": [],
      "source": [
        "## NOTHING TO DO HERE\n",
        "\n",
        "# BoW with our vocab\n",
        "vectorizer_ours = CountVectorizer(max_features=500, tokenizer=tokenize, vocabulary=student_created_vocab) # Automatic BoW embeddings using your vocab\n",
        "vectorized_data_ours = vectorizer_ours.fit_transform(X_train) # Embedded data\n",
        "\n",
        "# Bow with an auto vocab\n",
        "vectorizer_auto = CountVectorizer(max_features=500) # Automatic BoW embeddings and automatic vocab\n",
        "vectorized_data_auto = vectorizer_auto.fit_transform(X_train) # Embedded data\n",
        "VOCAB = vectorizer_auto.vocabulary_ # For convenience\n",
        "\n",
        "# binary BoW\n",
        "vectorizer_bbow = CountVectorizer(max_features=500, binary=True, vocabulary=VOCAB) # Automatic binary BoW embeddings using the automatically generated vocab above\n",
        "vectorized_data_bbow = vectorizer_bbow.fit_transform(X_train) # Embedded data\n",
        "\n",
        "# TFIDF\n",
        "tfidf_transformer = TfidfTransformer(smooth_idf=False) # TF-IDF transformer for BoW embeddings\n",
        "vectorized_data_tfidf_auto = tfidf_transformer.fit_transform(vectorized_data_auto) # Embedded data"
      ]
    },
    {
      "cell_type": "markdown",
      "metadata": {
        "id": "mQFvomo9urR3"
      },
      "source": [
        "### Q2.d.a [ 2 points ] Implement the function `vocabulary_diff` below. It should return a list of tokens that are in `vocab_1` but not in `vocab_2`."
      ]
    },
    {
      "cell_type": "code",
      "execution_count": null,
      "metadata": {
        "colab": {
          "base_uri": "https://localhost:8080/"
        },
        "id": "6-CScQ3tKGPU",
        "outputId": "279186fd-67b6-4915-a3ec-4400732907f3"
      },
      "outputs": [
        {
          "name": "stdout",
          "output_type": "stream",
          "text": [
            "{'family': 482, 'food': 484, 'juz': 489}\n",
            "{'wen': 461, 'weekly': 459, 'wife': 471}\n"
          ]
        }
      ],
      "source": [
        "# Get the differences between our vocabulary and the automatically generated one\n",
        "\n",
        "def vocabulary_diff(vocab_1:dict, vocab_2:dict) -> List[str]:\n",
        "  \"\"\"\n",
        "  Given 2 vocabularies, returns all the tokens that are present in vocab_1 but not in vocab_2\n",
        "  \"\"\"\n",
        "  vocab_diff = {}\n",
        "\n",
        "  for key in vocab_1:\n",
        "    if key not in vocab_2:\n",
        "      vocab_diff[key] = vocab_1[key]\n",
        "  return vocab_diff\n",
        "\n",
        "\n",
        "print(vocabulary_diff(student_created_vocab,VOCAB))\n",
        "print(vocabulary_diff(VOCAB, student_created_vocab))"
      ]
    },
    {
      "cell_type": "markdown",
      "metadata": {
        "id": "q3gDDBttvyVW"
      },
      "source": [
        "###  Q2.d.b [3 points] Based on the differences between the two vocabularies, which do you think will represent our datapoints better? Why? "
      ]
    },
    {
      "cell_type": "markdown",
      "metadata": {
        "id": "SSDcv9SYwGJj"
      },
      "source": [
        "All token counts in VOCAB are lower than in student_created_vocab, so we should take the one that contains more popular tokens."
      ]
    },
    {
      "cell_type": "code",
      "execution_count": null,
      "metadata": {
        "id": "ZDa_SZbdN1tA"
      },
      "outputs": [],
      "source": [
        "# Some convenience constants\n",
        "DOCUMENT_COUNTS = np.bincount(vectorized_data_bbow.indices, minlength=vectorized_data_bbow.shape[1])\n",
        "NUM_DATAPOINTS = len(X_train)\n",
        "VOCAB = vectorizer_auto.vocabulary_"
      ]
    },
    {
      "cell_type": "markdown",
      "metadata": {
        "id": "BvRheDH8w7lF"
      },
      "source": [
        "### Q2.d.c [3 points] Implement the `idf` function below which returns the inverse document frequency of a given word as defined by:\n",
        "\n",
        "$$ IDF(w_j) = log(\\frac{N}{N_j}) + 1 $$\n",
        "\n",
        "where:\n",
        "\n",
        "* $N$ is the number of datapoints \n",
        "\n",
        "* $N_j$ is the number of occurences of word $w_j$ in the data"
      ]
    },
    {
      "cell_type": "code",
      "execution_count": null,
      "metadata": {
        "id": "V-dlIRAPPzSE"
      },
      "outputs": [],
      "source": [
        "def idf(word:str, document_count:np.ndarray=DOCUMENT_COUNTS, num_datapoints:int=NUM_DATAPOINTS) -> float:\n",
        "  \"\"\"\n",
        "  returns the inverse document frequency of a particular word, based on the IDF definition of\n",
        "\n",
        "  IDF(w_j) = log(N / N_j) + 1\n",
        "\n",
        "  \"\"\"\n",
        "  N = num_datapoints\n",
        "  idx = token_to_index(word, VOCAB)\n",
        "  N_j = np.sum(DOCUMENT_COUNTS[idx])\n",
        "  print(\"N: \", N, \"N_j: \", N_j)\n",
        "  return np.log(N / N_j) + 1"
      ]
    },
    {
      "cell_type": "code",
      "execution_count": null,
      "metadata": {
        "colab": {
          "base_uri": "https://localhost:8080/"
        },
        "id": "7wEYAGnnQi97",
        "outputId": "644f4ab1-7eaa-4329-9487-751d06084cfc"
      },
      "outputs": [
        {
          "name": "stdout",
          "output_type": "stream",
          "text": [
            "word: head\n",
            "N:  3901 N_j:  17\n",
            "your idf: 6.4357748654504405\n",
            "calculated idf: 6.4357748654504405\n",
            "N:  3901 N_j:  17\n",
            "word: ah\n",
            "N:  3901 N_j:  21\n",
            "your idf: 6.224465771783233\n",
            "calculated idf: 6.224465771783233\n",
            "N:  3901 N_j:  21\n",
            "word: customer\n",
            "N:  3901 N_j:  35\n",
            "your idf: 5.713640148017243\n",
            "calculated idf: 5.713640148017243\n",
            "N:  3901 N_j:  35\n",
            "word: dont\n",
            "N:  3901 N_j:  98\n",
            "your idf: 4.684020730836085\n",
            "calculated idf: 4.684020730836085\n",
            "N:  3901 N_j:  98\n",
            "word: where\n",
            "N:  3901 N_j:  82\n",
            "your idf: 4.862268962242403\n",
            "calculated idf: 4.862268962242403\n",
            "N:  3901 N_j:  82\n",
            "word: it\n",
            "N:  3901 N_j:  423\n",
            "your idf: 3.2216160304603783\n",
            "calculated idf: 3.2216160304603783\n",
            "N:  3901 N_j:  423\n",
            "word: po\n",
            "N:  3901 N_j:  24\n",
            "your idf: 6.0909343791587105\n",
            "calculated idf: 6.0909343791587105\n",
            "N:  3901 N_j:  24\n",
            "word: weekend\n",
            "N:  3901 N_j:  22\n",
            "your idf: 6.177945756148341\n",
            "calculated idf: 6.177945756148341\n",
            "N:  3901 N_j:  22\n",
            "word: co\n",
            "N:  3901 N_j:  39\n",
            "your idf: 5.60542656337701\n",
            "calculated idf: 5.60542656337701\n",
            "N:  3901 N_j:  39\n",
            "word: sms\n",
            "N:  3901 N_j:  36\n",
            "your idf: 5.685469271050547\n",
            "calculated idf: 5.685469271050547\n",
            "N:  3901 N_j:  36\n",
            "word: could\n",
            "N:  3901 N_j:  34\n",
            "your idf: 5.742627684890495\n",
            "calculated idf: 5.742627684890495\n",
            "N:  3901 N_j:  34\n",
            "word: service\n",
            "N:  3901 N_j:  40\n",
            "your idf: 5.58010875539272\n",
            "calculated idf: 5.58010875539272\n",
            "N:  3901 N_j:  40\n",
            "word: forgot\n",
            "N:  3901 N_j:  23\n",
            "your idf: 6.133493993577507\n",
            "calculated idf: 6.133493993577507\n",
            "N:  3901 N_j:  23\n",
            "word: easy\n",
            "N:  3901 N_j:  20\n",
            "your idf: 6.273255935952665\n",
            "calculated idf: 6.273255935952665\n",
            "N:  3901 N_j:  20\n",
            "word: first\n",
            "N:  3901 N_j:  41\n",
            "your idf: 5.555416142802349\n",
            "calculated idf: 5.555416142802349\n",
            "N:  3901 N_j:  41\n"
          ]
        }
      ],
      "source": [
        "for index in np.random.randint(0,500, size=15).tolist():\n",
        "  print(f\"word: {index_to_token(index, VOCAB)}\")\n",
        "  print(f\"your idf: {idf(index_to_token(index, VOCAB))}\")\n",
        "  print(f\"calculated idf: {tfidf_transformer.idf_[index]}\")\n",
        "  assert np.isclose(tfidf_transformer.idf_[index], idf(index_to_token(index, VOCAB)))"
      ]
    },
    {
      "cell_type": "markdown",
      "metadata": {
        "id": "RIYmBJfkxg50"
      },
      "source": [
        "### Q2.d.d [2 points] Implement a binary Bag of Words embedding function that takes in a list of token and a vocab, and returns a numpy array corresponding to the embedding vector"
      ]
    },
    {
      "cell_type": "code",
      "execution_count": null,
      "metadata": {
        "id": "AvtjwrUyS0lT"
      },
      "outputs": [],
      "source": [
        "def binary_BoW_embedder(list_of_tokens:List[str], vocab:dict) -> np.ndarray:\n",
        "  \"\"\"\n",
        "  Creates a binary Bag of Words embedding of a datapoint represented as a list of tokens, using the vocab\n",
        "  \"\"\"\n",
        "  # Hint: you may want to start with np.zeros()\n",
        "  embedding = np.zeros(len(vocab))\n",
        "  for i in range(len(list_of_tokens)):\n",
        "    embedding[token_to_index(list_of_tokens[i], vocab)] = 1\n",
        "\n",
        "  return embedding"
      ]
    },
    {
      "cell_type": "code",
      "execution_count": null,
      "metadata": {
        "colab": {
          "base_uri": "https://localhost:8080/"
        },
        "id": "j5kCOIlVUMrM",
        "outputId": "70518a31-2b76-4c6c-9d09-e2b5b3c3eaeb"
      },
      "outputs": [
        {
          "name": "stdout",
          "output_type": "stream",
          "text": [
            "text: ['or', 'maybe', 'really', 'yeah', 'time', 'nothing', 'stuff', 'hello', 'wait', 'morning']\n",
            "your embedding: [0. 0. 0. 0. 0. 0. 0. 0. 0. 0. 0. 0. 0. 0. 0. 0. 0. 0. 0. 0. 0. 0. 0. 0.\n",
            " 0. 0. 0. 0. 0. 0. 0. 0. 0. 0. 0. 0. 0. 0. 0. 0. 0. 0. 0. 0. 0. 0. 0. 0.\n",
            " 0. 0. 0. 0. 0. 0. 0. 0. 0. 0. 0. 0. 0. 0. 0. 0. 0. 0. 0. 0. 0. 0. 0. 0.\n",
            " 0. 0. 0. 0. 0. 0. 0. 0. 0. 0. 0. 0. 0. 0. 0. 0. 0. 0. 0. 0. 0. 0. 0. 0.\n",
            " 0. 0. 0. 0. 0. 0. 0. 0. 0. 0. 0. 0. 0. 0. 0. 0. 0. 0. 0. 0. 0. 0. 0. 0.\n",
            " 0. 0. 0. 0. 0. 0. 0. 0. 0. 0. 0. 0. 0. 0. 0. 0. 0. 0. 0. 0. 0. 0. 0. 0.\n",
            " 0. 0. 0. 0. 0. 0. 0. 0. 0. 0. 0. 0. 0. 0. 0. 0. 0. 0. 0. 0. 0. 0. 0. 0.\n",
            " 0. 0. 0. 0. 0. 0. 0. 0. 0. 0. 0. 0. 0. 0. 0. 0. 0. 0. 0. 0. 0. 0. 0. 1.\n",
            " 0. 0. 0. 0. 0. 0. 0. 0. 0. 0. 0. 0. 0. 0. 0. 0. 0. 0. 0. 0. 0. 0. 0. 0.\n",
            " 0. 0. 0. 0. 0. 0. 0. 0. 0. 0. 0. 0. 0. 0. 0. 0. 0. 0. 0. 0. 0. 0. 0. 0.\n",
            " 0. 0. 0. 0. 0. 0. 0. 0. 0. 0. 0. 0. 0. 0. 0. 0. 0. 1. 0. 0. 0. 0. 0. 0.\n",
            " 0. 0. 0. 0. 0. 0. 0. 0. 0. 0. 0. 0. 1. 0. 0. 0. 0. 0. 0. 0. 0. 0. 0. 0.\n",
            " 0. 0. 0. 0. 0. 1. 0. 0. 0. 0. 0. 0. 0. 0. 0. 0. 0. 0. 0. 0. 1. 0. 0. 0.\n",
            " 0. 0. 0. 0. 0. 0. 0. 0. 0. 0. 0. 0. 0. 0. 0. 0. 0. 0. 0. 0. 0. 0. 0. 0.\n",
            " 0. 0. 0. 0. 0. 0. 0. 1. 0. 0. 0. 0. 0. 0. 0. 0. 0. 0. 0. 0. 0. 0. 0. 0.\n",
            " 0. 0. 0. 0. 0. 0. 0. 0. 0. 0. 0. 0. 0. 0. 0. 0. 0. 0. 0. 0. 0. 0. 0. 0.\n",
            " 0. 1. 0. 0. 0. 0. 0. 0. 0. 0. 0. 0. 0. 0. 0. 0. 0. 0. 0. 0. 0. 0. 0. 0.\n",
            " 0. 0. 0. 0. 0. 1. 0. 0. 0. 0. 0. 0. 0. 0. 0. 0. 0. 0. 0. 0. 0. 0. 0. 0.\n",
            " 0. 0. 0. 0. 0. 0. 0. 0. 0. 0. 0. 1. 0. 0. 0. 0. 0. 0. 0. 0. 0. 0. 0. 0.\n",
            " 0. 0. 0. 0. 0. 0. 0. 0. 0. 0. 0. 0. 0. 0. 0. 0. 0. 0. 0. 0. 0. 0. 0. 0.\n",
            " 0. 0. 0. 0. 0. 0. 0. 0. 0. 0. 0. 1. 0. 0. 0. 0. 0. 0. 0. 0.]\n",
            "calculated embedding: [[0 0 0 0 0 0 0 0 0 0 0 0 0 0 0 0 0 0 0 0 0 0 0 0 0 0 0 0 0 0 0 0 0 0 0 0\n",
            "  0 0 0 0 0 0 0 0 0 0 0 0 0 0 0 0 0 0 0 0 0 0 0 0 0 0 0 0 0 0 0 0 0 0 0 0\n",
            "  0 0 0 0 0 0 0 0 0 0 0 0 0 0 0 0 0 0 0 0 0 0 0 0 0 0 0 0 0 0 0 0 0 0 0 0\n",
            "  0 0 0 0 0 0 0 0 0 0 0 0 0 0 0 0 0 0 0 0 0 0 0 0 0 0 0 0 0 0 0 0 0 0 0 0\n",
            "  0 0 0 0 0 0 0 0 0 0 0 0 0 0 0 0 0 0 0 0 0 0 0 0 0 0 0 0 0 0 0 0 0 0 0 0\n",
            "  0 0 0 0 0 0 0 0 0 0 0 1 0 0 0 0 0 0 0 0 0 0 0 0 0 0 0 0 0 0 0 0 0 0 0 0\n",
            "  0 0 0 0 0 0 0 0 0 0 0 0 0 0 0 0 0 0 0 0 0 0 0 0 0 0 0 0 0 0 0 0 0 0 0 0\n",
            "  0 0 0 0 0 1 0 0 0 0 0 0 0 0 0 0 0 0 0 0 0 0 0 0 1 0 0 0 0 0 0 0 0 0 0 0\n",
            "  0 0 0 0 0 1 0 0 0 0 0 0 0 0 0 0 0 0 0 0 1 0 0 0 0 0 0 0 0 0 0 0 0 0 0 0\n",
            "  0 0 0 0 0 0 0 0 0 0 0 0 0 0 0 0 0 0 0 1 0 0 0 0 0 0 0 0 0 0 0 0 0 0 0 0\n",
            "  0 0 0 0 0 0 0 0 0 0 0 0 0 0 0 0 0 0 0 0 0 0 0 0 0 1 0 0 0 0 0 0 0 0 0 0\n",
            "  0 0 0 0 0 0 0 0 0 0 0 0 0 0 0 0 0 1 0 0 0 0 0 0 0 0 0 0 0 0 0 0 0 0 0 0\n",
            "  0 0 0 0 0 0 0 0 0 0 0 1 0 0 0 0 0 0 0 0 0 0 0 0 0 0 0 0 0 0 0 0 0 0 0 0\n",
            "  0 0 0 0 0 0 0 0 0 0 0 0 0 0 0 0 0 0 0 0 0 0 0 1 0 0 0 0 0 0 0 0]]\n",
            "Success!\n",
            "text: ['getting', 'weekly', 'over', 'aight', 'make', 'like', 'receive', 'beautiful', 'wish', 'birthday']\n",
            "Success!\n",
            "text: ['got', 'with', 'he', 'were', 'missed', 'hear', 'wake', 'guess', 'wake', 'bed']\n",
            "Success!\n",
            "text: ['shit', 'best', 'looking', 'per', 'easy', 'worry', 'online', 'enjoy', 'ah', 'plus']\n",
            "Success!\n",
            "text: ['going', 'money', 'sweet', 'code', 'pain', 'about', 'long', 'might', 'remember', 'before']\n",
            "Success!\n",
            "text: ['stuff', 're', 'com', 'show', 'wait', 'watching', 'trying', 'messages', 'txt', 'apply']\n",
            "Success!\n",
            "text: ['how', 'care', 'tomorrow', 'because', 'service', 'sweet', '10', 'talk', 'being', 'dat']\n",
            "Success!\n",
            "text: ['means', 'orange', 'without', 'heart', 'there', 'join', 'babe', 'girl', 'hope', 'wake']\n",
            "Success!\n",
            "text: ['world', 'miss', 'said', 'on', 'missed', 'way', 'wen', 'it', 'mail', 'hear']\n",
            "Success!\n",
            "text: ['number', 'into', 'if', 'line', 'quite', 'show', 'before', 'much', 'though', 'job']\n",
            "Success!\n",
            "text: ['mail', 'he', 'speak', 'year', 'attempt', 'fuck', 'abt', 'oh', 'boy', 'receive']\n",
            "Success!\n",
            "text: ['please', '1st', 'really', 'dunno', 'yeah', 'enough', 'wife', 'bored', 'evening', 'your']\n",
            "Success!\n",
            "text: ['care', 'text', 'give', 'told', 'nice', 'sorry', 'meet', 'xxx', 'left', 'attempt']\n",
            "Success!\n",
            "text: ['amp', 'enjoy', 'home', 'pls', 'mins', 'today', 'anything', 'be', 'this', 'book']\n",
            "Success!\n",
            "text: ['its', 'not', 'cost', 'gt', 'service', 'is', 'wish', 'apply', 'wanna', 'late']\n",
            "Success!\n"
          ]
        }
      ],
      "source": [
        "for test_num in range(15):\n",
        "  sample_token_indices = np.random.randint(0,500, size=10)\n",
        "  input_text = [index_to_token(index, VOCAB) for index in sample_token_indices]\n",
        "  input_text_as_str = \" \".join(input_text)\n",
        "  print(f\"text: {input_text}\")\n",
        "  if test_num == 0:\n",
        "    print(f\"your embedding: {binary_BoW_embedder(input_text, VOCAB)}\")\n",
        "    print(f\"calculated embedding: {vectorizer_bbow.transform([input_text_as_str]).toarray()}\")\n",
        "  assert np.isclose(binary_BoW_embedder(input_text, VOCAB), vectorizer_bbow.transform([input_text_as_str]).toarray()).all()\n",
        "  print(\"Success!\")"
      ]
    },
    {
      "cell_type": "markdown",
      "metadata": {
        "id": "9QvHSEz2xzAC"
      },
      "source": [
        "### Q2.d.e [2 points] Implement a Bag of Words embedding function that takes in a list of token and a vocab, and returns a numpy array corresponding to the embedding vector"
      ]
    },
    {
      "cell_type": "code",
      "execution_count": null,
      "metadata": {
        "id": "RnWQOaXKaczA"
      },
      "outputs": [],
      "source": [
        "def BoW_embedder(list_of_tokens, vocab):\n",
        "  \"\"\"\n",
        "  Creates a binary Bag of Words embedding of a datapoint represented as a list of tokens, using the vocab\n",
        "  \"\"\"\n",
        "  # Hint: You may want to start with np.zeros()\n",
        "  embedding = np.zeros(len(vocab))\n",
        "  for i in range(len(list_of_tokens)):\n",
        "    embedding[token_to_index(list_of_tokens[i], vocab)] += 1\n",
        "\n",
        "  return embedding"
      ]
    },
    {
      "cell_type": "code",
      "execution_count": null,
      "metadata": {
        "colab": {
          "base_uri": "https://localhost:8080/"
        },
        "id": "zH4YTsgghcqE",
        "outputId": "c1ce7b51-610c-49b5-93d0-8e7024f25f12"
      },
      "outputs": [
        {
          "name": "stdout",
          "output_type": "stream",
          "text": [
            "text: ['hours', 'hope', 'holiday', 'hours', 'home', 'hope', 'holiday', 'home', 'home', 'hour']\n",
            "your embedding: [0. 0. 0. 0. 0. 0. 0. 0. 0. 0. 0. 0. 0. 0. 0. 0. 0. 0. 0. 0. 0. 0. 0. 0.\n",
            " 0. 0. 0. 0. 0. 0. 0. 0. 0. 0. 0. 0. 0. 0. 0. 0. 0. 0. 0. 0. 0. 0. 0. 0.\n",
            " 0. 0. 0. 0. 0. 0. 0. 0. 0. 0. 0. 0. 0. 0. 0. 0. 0. 0. 0. 0. 0. 0. 0. 0.\n",
            " 0. 0. 0. 0. 0. 0. 0. 0. 0. 0. 0. 0. 0. 0. 0. 0. 0. 0. 0. 0. 0. 0. 0. 0.\n",
            " 0. 0. 0. 0. 0. 0. 0. 0. 0. 0. 0. 0. 0. 0. 0. 0. 0. 0. 0. 0. 0. 0. 0. 0.\n",
            " 0. 0. 0. 0. 0. 0. 0. 0. 0. 0. 0. 0. 0. 0. 0. 0. 0. 0. 0. 0. 0. 0. 0. 0.\n",
            " 0. 0. 0. 0. 0. 0. 0. 0. 0. 0. 0. 0. 0. 0. 0. 0. 0. 0. 0. 0. 0. 0. 0. 0.\n",
            " 0. 0. 0. 0. 0. 0. 0. 0. 0. 0. 0. 0. 0. 0. 0. 0. 0. 0. 0. 0. 0. 0. 0. 0.\n",
            " 0. 0. 0. 0. 0. 0. 0. 2. 3. 2. 1. 2. 0. 0. 0. 0. 0. 0. 0. 0. 0. 0. 0. 0.\n",
            " 0. 0. 0. 0. 0. 0. 0. 0. 0. 0. 0. 0. 0. 0. 0. 0. 0. 0. 0. 0. 0. 0. 0. 0.\n",
            " 0. 0. 0. 0. 0. 0. 0. 0. 0. 0. 0. 0. 0. 0. 0. 0. 0. 0. 0. 0. 0. 0. 0. 0.\n",
            " 0. 0. 0. 0. 0. 0. 0. 0. 0. 0. 0. 0. 0. 0. 0. 0. 0. 0. 0. 0. 0. 0. 0. 0.\n",
            " 0. 0. 0. 0. 0. 0. 0. 0. 0. 0. 0. 0. 0. 0. 0. 0. 0. 0. 0. 0. 0. 0. 0. 0.\n",
            " 0. 0. 0. 0. 0. 0. 0. 0. 0. 0. 0. 0. 0. 0. 0. 0. 0. 0. 0. 0. 0. 0. 0. 0.\n",
            " 0. 0. 0. 0. 0. 0. 0. 0. 0. 0. 0. 0. 0. 0. 0. 0. 0. 0. 0. 0. 0. 0. 0. 0.\n",
            " 0. 0. 0. 0. 0. 0. 0. 0. 0. 0. 0. 0. 0. 0. 0. 0. 0. 0. 0. 0. 0. 0. 0. 0.\n",
            " 0. 0. 0. 0. 0. 0. 0. 0. 0. 0. 0. 0. 0. 0. 0. 0. 0. 0. 0. 0. 0. 0. 0. 0.\n",
            " 0. 0. 0. 0. 0. 0. 0. 0. 0. 0. 0. 0. 0. 0. 0. 0. 0. 0. 0. 0. 0. 0. 0. 0.\n",
            " 0. 0. 0. 0. 0. 0. 0. 0. 0. 0. 0. 0. 0. 0. 0. 0. 0. 0. 0. 0. 0. 0. 0. 0.\n",
            " 0. 0. 0. 0. 0. 0. 0. 0. 0. 0. 0. 0. 0. 0. 0. 0. 0. 0. 0. 0. 0. 0. 0. 0.\n",
            " 0. 0. 0. 0. 0. 0. 0. 0. 0. 0. 0. 0. 0. 0. 0. 0. 0. 0. 0. 0.]\n",
            "calculated embedding: [[0 0 0 0 0 0 0 0 0 0 0 0 0 0 0 0 0 0 0 0 0 0 0 0 0 0 0 0 0 0 0 0 0 0 0 0\n",
            "  0 0 0 0 0 0 0 0 0 0 0 0 0 0 0 0 0 0 0 0 0 0 0 0 0 0 0 0 0 0 0 0 0 0 0 0\n",
            "  0 0 0 0 0 0 0 0 0 0 0 0 0 0 0 0 0 0 0 0 0 0 0 0 0 0 0 0 0 0 0 0 0 0 0 0\n",
            "  0 0 0 0 0 0 0 0 0 0 0 0 0 0 0 0 0 0 0 0 0 0 0 0 0 0 0 0 0 0 0 0 0 0 0 0\n",
            "  0 0 0 0 0 0 0 0 0 0 0 0 0 0 0 0 0 0 0 0 0 0 0 0 0 0 0 0 0 0 0 0 0 0 0 0\n",
            "  0 0 0 0 0 0 0 0 0 0 0 0 0 0 0 0 0 0 0 2 3 2 1 2 0 0 0 0 0 0 0 0 0 0 0 0\n",
            "  0 0 0 0 0 0 0 0 0 0 0 0 0 0 0 0 0 0 0 0 0 0 0 0 0 0 0 0 0 0 0 0 0 0 0 0\n",
            "  0 0 0 0 0 0 0 0 0 0 0 0 0 0 0 0 0 0 0 0 0 0 0 0 0 0 0 0 0 0 0 0 0 0 0 0\n",
            "  0 0 0 0 0 0 0 0 0 0 0 0 0 0 0 0 0 0 0 0 0 0 0 0 0 0 0 0 0 0 0 0 0 0 0 0\n",
            "  0 0 0 0 0 0 0 0 0 0 0 0 0 0 0 0 0 0 0 0 0 0 0 0 0 0 0 0 0 0 0 0 0 0 0 0\n",
            "  0 0 0 0 0 0 0 0 0 0 0 0 0 0 0 0 0 0 0 0 0 0 0 0 0 0 0 0 0 0 0 0 0 0 0 0\n",
            "  0 0 0 0 0 0 0 0 0 0 0 0 0 0 0 0 0 0 0 0 0 0 0 0 0 0 0 0 0 0 0 0 0 0 0 0\n",
            "  0 0 0 0 0 0 0 0 0 0 0 0 0 0 0 0 0 0 0 0 0 0 0 0 0 0 0 0 0 0 0 0 0 0 0 0\n",
            "  0 0 0 0 0 0 0 0 0 0 0 0 0 0 0 0 0 0 0 0 0 0 0 0 0 0 0 0 0 0 0 0]]\n",
            "Success!\n",
            "text: ['hours', 'hope', 'holiday', 'hour', 'hours', 'hour', 'hours', 'hours', 'hope', 'hours']\n",
            "Success!\n",
            "text: ['hour', 'hours', 'hope', 'hope', 'hour', 'home', 'home', 'hours', 'holiday', 'hours']\n",
            "Success!\n",
            "text: ['hour', 'hour', 'hour', 'hour', 'hour', 'hope', 'home', 'hour', 'holiday', 'holiday']\n",
            "Success!\n",
            "text: ['holiday', 'holiday', 'hope', 'holiday', 'hour', 'hours', 'holiday', 'hope', 'hope', 'holiday']\n",
            "Success!\n",
            "text: ['hours', 'holiday', 'hope', 'home', 'hour', 'hope', 'holiday', 'hour', 'holiday', 'holiday']\n",
            "Success!\n",
            "text: ['home', 'hour', 'hour', 'home', 'hope', 'holiday', 'hours', 'holiday', 'holiday', 'hope']\n",
            "Success!\n",
            "text: ['holiday', 'home', 'home', 'hour', 'hours', 'holiday', 'holiday', 'hope', 'home', 'hours']\n",
            "Success!\n",
            "text: ['hour', 'home', 'hour', 'hope', 'hope', 'holiday', 'hours', 'hour', 'home', 'hope']\n",
            "Success!\n",
            "text: ['holiday', 'holiday', 'hour', 'hope', 'hours', 'hope', 'hour', 'hour', 'hope', 'hour']\n",
            "Success!\n",
            "text: ['hope', 'home', 'hope', 'hope', 'hour', 'hour', 'holiday', 'holiday', 'home', 'holiday']\n",
            "Success!\n",
            "text: ['hope', 'hour', 'holiday', 'holiday', 'home', 'home', 'hope', 'hour', 'home', 'holiday']\n",
            "Success!\n",
            "text: ['hour', 'hour', 'holiday', 'home', 'holiday', 'hour', 'hours', 'hours', 'hope', 'holiday']\n",
            "Success!\n",
            "text: ['holiday', 'hope', 'hope', 'hope', 'hour', 'holiday', 'hour', 'hope', 'holiday', 'hour']\n",
            "Success!\n",
            "text: ['hour', 'hope', 'holiday', 'hope', 'holiday', 'hours', 'home', 'home', 'home', 'hope']\n",
            "Success!\n"
          ]
        }
      ],
      "source": [
        "for test_num in range(15):\n",
        "  sample_token_indices = np.random.randint(199,204, size=10)\n",
        "  input_text = [index_to_token(index, VOCAB) for index in sample_token_indices]\n",
        "  input_text_as_str = \" \".join(input_text)\n",
        "  print(f\"text: {input_text}\")\n",
        "  if test_num == 0:\n",
        "    print(f\"your embedding: {BoW_embedder(input_text, VOCAB)}\")\n",
        "    print(f\"calculated embedding: {vectorizer_auto.transform([input_text_as_str]).toarray()}\")\n",
        "  assert np.isclose(BoW_embedder(input_text, VOCAB), vectorizer_auto.transform([input_text_as_str]).toarray()).all()\n",
        "  print(\"Success!\")"
      ]
    },
    {
      "cell_type": "markdown",
      "metadata": {
        "id": "c_2Ff_JaiJ8_"
      },
      "source": [
        "##Q2.e [11 points] Model Fitting"
      ]
    },
    {
      "cell_type": "code",
      "execution_count": null,
      "metadata": {
        "id": "7xkV3-sphmKl"
      },
      "outputs": [],
      "source": [
        "from sklearn.linear_model import LogisticRegression\n",
        "from sklearn.metrics import accuracy_score"
      ]
    },
    {
      "cell_type": "code",
      "execution_count": null,
      "metadata": {
        "id": "Bkq8Wnm7jSCn"
      },
      "outputs": [],
      "source": [
        "logreg_auto = LogisticRegression(random_state=1).fit(vectorized_data_auto, y_train)\n",
        "logreg_bbow = LogisticRegression(random_state=1).fit(vectorized_data_bbow, y_train)\n",
        "logreg_tfidf = LogisticRegression(random_state=1).fit(vectorized_data_tfidf_auto, y_train)"
      ]
    },
    {
      "cell_type": "markdown",
      "metadata": {
        "id": "x166D5jgzcXD"
      },
      "source": [
        "### Q2.e.a [3 points] Evaluation Metrics\n",
        "Below you can see a set of simple accuracy scores: \n",
        "\n",
        "https://scikit-learn.org/stable/modules/model_evaluation.html#accuracy-score\n",
        "\n",
        "In what situation would accuracy be a good evaluation metric? In what situation it wouldn't? "
      ]
    },
    {
      "cell_type": "code",
      "execution_count": null,
      "metadata": {
        "colab": {
          "base_uri": "https://localhost:8080/"
        },
        "collapsed": true,
        "id": "rBmtzT6dlmKo",
        "outputId": "7b1d68f1-6e6c-4a5f-8d46-c1d2fdd444f7"
      },
      "outputs": [
        {
          "name": "stdout",
          "output_type": "stream",
          "text": [
            " All 1s; accuracy on validation data: 0.1255980861244019\n",
            " All 0s; accuracy on validation data: 0.8744019138755981\n",
            " Logistic Regression on BoW embedding; accuracy on validation data: 0.9772727272727273\n",
            " Logistic Regression on binary BoW embedding; accuracy on validation data: 0.9808612440191388\n",
            " Logistic Regression on TF-IDF embedding; accuracy on validation data: 0.972488038277512\n"
          ]
        }
      ],
      "source": [
        "print(f\" All 1s; accuracy on validation data: {accuracy_score(y_val, np.ones_like(y_val))}\")\n",
        "\n",
        "print(f\" All 0s; accuracy on validation data: {accuracy_score(y_val, np.zeros_like(y_val))}\")\n",
        "\n",
        "print(f\" Logistic Regression on BoW embedding; accuracy on validation data: {accuracy_score(y_val, logreg_auto.predict(vectorizer_auto.transform(X_val)))}\")\n",
        "\n",
        "print(f\" Logistic Regression on binary BoW embedding; accuracy on validation data: {accuracy_score(y_val, logreg_bbow.predict(vectorizer_bbow.transform(X_val)))}\")\n",
        "\n",
        "print(f\" Logistic Regression on TF-IDF embedding; accuracy on validation data: {accuracy_score(y_val, logreg_tfidf.predict(tfidf_transformer.transform(vectorizer_auto.transform(X_val))))}\")\n"
      ]
    },
    {
      "cell_type": "markdown",
      "metadata": {
        "id": "f3gZZYLy0f37"
      },
      "source": [
        "When comparing the Binary BoW, BoW, and TF-IDF models with each other, accuracy is a good evaluation metric, because it tells us how good each model is at guessing the classification.\n",
        "\n",
        "However, if we tried to compare the first two models (All 0s and All 1s) with each other, accuracy is not a good metric to use. In this case, all it represents is the proportion of 0s (87%) and 1s (13%) in the sample set. If we were to say that All 0s is a better model because it has a higher accuracy, that is not true because both models intrinsically perform the same.\n",
        "\n",
        "Lastly, in the case of comparing one of the first two models (All 0s or All 1s) with one of the last three models, this metric doesn’t capture the whole picture. If we say that the All 0s model performed decently, only slightly worse than one of the 3 learning models, and so it is suitable, we would be incorrect, again because our sample data happened to include far more 0s than ones, not reflecting the true performance of the model. \n",
        "\n",
        "This is likely in part due to the fact that the vast majority of text messages in general are likely to not be spam, but the more data available, the better picture we get about the performance of the All 1s and All 0s models."
      ]
    },
    {
      "cell_type": "markdown",
      "metadata": {
        "id": "1OWMNrwD0hwR"
      },
      "source": [
        "### Q2.e.b [8 points] Answer the following in one-two sentences (2 points each)\n",
        "\n",
        "* What is the interpretation of coefficient $\\beta_j$ with $j > 1$ (so not the intercept) in the Logistic regression model fit on the binary BoW embeddings?\n",
        "\n",
        "* What is the interpretation of coefficient $\\beta_j$ with $j > 1$ (so not the intercept) in the Logistic regression model fit on the BoW embeddings?\n",
        "\n",
        "* If we were to include 1-st order interaction terms in our Logistic Regression model fit on binary BoW embeddings, what would be the interpretation of a coefficient for that interaction ?\n",
        "\n",
        "* Is the above different from fitting a Logistic Regression on a combination of unigrams and bigrams (1-grams, and 2-grams)? Explain."
      ]
    },
    {
      "cell_type": "markdown",
      "metadata": {
        "id": "JB4UdDyj11C_"
      },
      "source": [
        "*   $\\beta_j$ is the probability of a message being spam given presence of the $j$th token\n",
        "*   $\\beta_j$ is the probability of a message being spam as above, with weight depending on the count of $j$th token\n",
        "*   The likliness of that interaction to affect the probabilty of a message being spam\n",
        "*   It is different because the length of the token accounts for phrases and mulitple worded terms which the above lacks."
      ]
    },
    {
      "cell_type": "markdown",
      "metadata": {
        "id": "YFZJTJ9msv_V"
      },
      "source": [
        "## Q2.f [4 points] Word Vectors\n",
        "\n",
        "Below we will be using a set of pre-trained word embeddings from the SpaCy library. For the purpose of the questions below, assume that they were trained\n",
        "using a Skip-Gram objective as described in lecture."
      ]
    },
    {
      "cell_type": "code",
      "execution_count": null,
      "metadata": {
        "id": "9vllrC6GmURD"
      },
      "outputs": [],
      "source": [
        "# This installs a full pipeline of tokenizer -> embedder with additional components.\n",
        "\n",
        "import spacy\n",
        "spacy_pipeline = spacy.load('en_core_web_md') # If this line produces an error,\n",
        "# you might need to re-start the runtime after running the first cell."
      ]
    },
    {
      "cell_type": "markdown",
      "metadata": {
        "id": "MHMjDoj22TiQ"
      },
      "source": [
        "### Q2.f.a [2 points] Implement the function get_document_embedding_from_spacy below to return the document embedding as the average of all vector embeddings.\n",
        "\n",
        "You are not allowed to use `tokens.vector` in your functions, but you can check against it that your solution is accurate"
      ]
    },
    {
      "cell_type": "code",
      "execution_count": null,
      "metadata": {
        "id": "Lt-s7xVZm_5t"
      },
      "outputs": [],
      "source": [
        "def get_document_embedding_from_spacy(text:str) -> np.ndarray:\n",
        "  \"\"\"\n",
        "  returns the embedding vector representing the entire text by averaging the \n",
        "  word level embeddings.\n",
        "\n",
        "  !! DO NOT USE tokens.vector directly!! \n",
        "  \"\"\"\n",
        "  tokens = spacy_pipeline(text)\n",
        "\n",
        "  # Hint: you can iterate over each token in `tokens` and access the underlying vector with .vector\n",
        "  word_embedding = np.zeros((len(tokens), len(tokens[1].vector)))\n",
        "  for i in range(len(tokens)):\n",
        "    word_embedding[i] = tokens[i].vector\n",
        "  document_embedding = np.mean(word_embedding, axis=0)\n",
        "\n",
        "  return document_embedding"
      ]
    },
    {
      "cell_type": "code",
      "execution_count": null,
      "metadata": {
        "colab": {
          "base_uri": "https://localhost:8080/"
        },
        "id": "AWf-PZXlp2Do",
        "outputId": "6810b115-4f38-46c0-d36e-e8ecc28865de"
      },
      "outputs": [
        {
          "name": "stdout",
          "output_type": "stream",
          "text": [
            "text: ['if', 'waiting', 'good', 'world', 'getting', 'bus', 'nice', 'thats', 'morning', 'on']\n",
            "your embedding: [ 5.77830383e-02  1.94456361e-01 -2.19950904e-01 -3.78643638e-02\n",
            "  9.56407272e-02  4.53359976e-02  8.85836272e-03 -1.45602456e-01\n",
            " -4.53000917e-02  2.39745457e+00 -2.43452186e-01 -1.15168364e-01\n",
            "  7.67919083e-02 -3.75229097e-02 -3.66774237e-01 -2.93011538e-02\n",
            " -1.47375274e-01  1.11763364e+00 -1.02154727e-01 -1.30321994e-02\n",
            " -3.26862729e-02  1.12621544e-01 -8.88800011e-03 -4.74057275e-02\n",
            "  5.76359115e-02 -2.09286190e-02 -2.14628641e-02 -1.40164999e-01\n",
            "  1.13103100e-01 -4.19531810e-02 -1.00099800e-01 -1.27693551e-01\n",
            " -6.14572579e-03  2.54744724e-02  8.97536383e-02  3.00560014e-02\n",
            "  7.57170917e-02  6.76214556e-02 -1.65086003e-01 -7.52437719e-02\n",
            "  1.71010007e-02 -2.83627290e-02 -8.08163607e-02  5.34527268e-02\n",
            "  2.79981866e-02  1.70090825e-01 -1.20148744e-01 -4.45693623e-02\n",
            " -1.18348817e-01 -6.59102186e-02 -1.07713271e-01  7.12039999e-02\n",
            "  1.02204530e-02  1.63156184e-01  3.67557429e-02  4.25189082e-02\n",
            " -7.49495456e-02 -7.51049993e-02 -3.92942727e-02 -7.31116339e-02\n",
            " -7.58016377e-02 -1.53665022e-01 -7.58426366e-02  1.45814546e-01\n",
            "  1.39052546e-01 -1.99691843e-02  3.19267809e-02  2.16017455e-01\n",
            "  1.60258170e-02  2.11662996e-01  1.29430650e-01  1.45465434e-02\n",
            "  2.75215911e-01 -3.38761796e-02  2.39774585e-02  1.34591834e-02\n",
            "  8.93220564e-02 -4.04253617e-02 -1.21790093e-01  2.81314634e-01\n",
            "  1.71319453e-01  9.96569991e-02 -6.07244570e-02  7.92801041e-03\n",
            "  7.88530924e-02 -5.62324569e-02  2.09131205e-01 -1.77664911e-01\n",
            "  1.87250000e-01  5.21639078e-02 -1.16070046e-01  1.21415992e-01\n",
            " -1.88078456e-01 -1.19548363e-01  9.60018171e-02 -4.38139101e-02\n",
            "  2.32090987e-03 -1.32953096e-01  8.41478684e-02  1.85054868e-01\n",
            " -8.41945647e-03 -2.99953635e-02  7.55881857e-03 -9.90392821e-02\n",
            "  7.50173542e-02 -5.58121362e-01  1.22538273e-01 -1.34616538e-02\n",
            "  3.80059107e-02  4.47868190e-02  4.05188171e-02 -2.27690273e-01\n",
            "  1.86875822e-01  5.14365462e-02  1.93801818e-01 -3.64411829e-02\n",
            " -1.44557304e-02 -5.25446368e-02  2.81055429e-02  1.81131830e-02\n",
            "  1.36125726e-01 -2.71609974e-02  1.64977529e-03 -8.94663357e-02\n",
            " -7.60962826e-02  9.75233635e-02 -8.70600216e-03 -1.89308675e-01\n",
            " -2.01377303e-02 -1.95053627e-01  8.55110918e-02 -6.78581824e-02\n",
            "  6.33580878e-02 -1.04209998e-01  8.33785458e-03 -8.84336335e-03\n",
            "  7.29555723e-02  3.47474566e-02 -4.32326377e-02 -3.76250590e-02\n",
            " -1.72876635e+00 -3.99908796e-03  2.39697632e-01 -9.18779987e-02\n",
            " -2.08243653e-02 -1.48535001e-01 -1.85276190e-01 -3.39964571e-02\n",
            "  3.64831820e-02 -5.29532699e-02 -1.70573093e-01  1.33184637e-01\n",
            "  5.06642909e-02 -1.11329272e-01 -5.35878182e-02 -1.18754600e-01\n",
            "  2.14977285e-02  7.34829058e-02  6.99279992e-02 -1.67445567e-01\n",
            " -2.42386722e-01  6.83415442e-02  2.06939495e-02 -6.72362067e-04\n",
            "  1.20769572e-01 -1.90180818e-01  2.52816352e-02 -5.28243628e-02\n",
            "  2.73993820e-01  3.08701829e-02  6.67453627e-03 -3.34038164e-02\n",
            " -1.81572783e-03 -1.70713002e-01 -1.31287849e-02  9.71101001e-02\n",
            " -7.00697282e-02  1.47352445e-02 -9.59532622e-02  4.13172539e-02\n",
            " -4.61540886e-02 -1.29487818e-01 -1.83645816e-01 -6.30893277e-02\n",
            " -7.71036474e-02  7.90366700e-03  5.18749180e-03  8.91946395e-02\n",
            "  3.44340889e-02 -3.21366367e-02 -3.08750925e-02  4.77984551e-02\n",
            " -1.63953852e-01  3.89654596e-03 -4.24803638e-02  9.74003639e-02\n",
            "  5.23957265e-02 -8.01101859e-02 -8.79954537e-02  6.12446354e-02\n",
            " -3.98226346e-02 -3.16522717e-02 -7.91559111e-02 -1.51726338e-02\n",
            "  2.19831911e-01 -1.16004544e-02 -2.59729004e-02 -6.55533289e-02\n",
            "  7.10451585e-02  1.31500897e-02 -9.51937285e-02 -1.72458273e-01\n",
            " -5.34484555e-02 -1.76113458e-01 -6.88379173e-03  1.34982364e-01\n",
            " -1.33643908e-01 -1.31463995e-01 -1.90599090e-01  3.11936367e-02\n",
            " -9.91306359e-02 -8.06855845e-02 -7.12927280e-02  1.50225455e-01\n",
            "  4.54659992e-02 -6.76870907e-02  6.99320918e-03  1.03146364e-01\n",
            " -2.00237861e-02  1.05326636e-01  2.77101824e-02  4.09435905e-02\n",
            "  6.43917733e-02  8.79969985e-02  5.44019595e-02 -1.15093818e-01\n",
            " -3.51989100e-02 -1.92908089e-01 -1.69472910e-01  2.49583091e-01\n",
            "  1.08928909e-01  1.09352819e-01 -6.13416109e-02  1.68795908e-01\n",
            " -1.93802711e-02 -1.37902274e-01 -1.17174222e-01 -9.32242704e-02\n",
            " -9.72017441e-02  5.91333661e-02 -1.08551002e-01 -1.68897547e-01\n",
            " -1.18406986e-02  3.81493262e-03  2.55680458e-02  3.11935825e-01\n",
            "  5.55644095e-02 -1.61560275e-01 -4.84270887e-02  4.29910017e-02\n",
            "  1.38611002e-01  1.44780908e-01  2.61982300e-02  1.22238001e-01\n",
            "  1.61081816e-01 -8.24994540e-02 -2.62260909e-02  1.13906456e-01\n",
            "  2.47419064e-01  8.57679385e-02 -1.04208179e-02  1.13211813e-02\n",
            " -1.67034732e-01 -2.26015997e-01 -1.49370894e-02  1.76304965e-01\n",
            " -1.41990591e-03  2.01474016e-02  1.89876159e-01  3.07975372e-01\n",
            "  7.46171793e-02 -1.47969634e-01 -3.28390258e-02  8.42370373e-02\n",
            "  1.21962711e-02 -5.07738170e-02  1.59365455e-01 -7.19816383e-02\n",
            " -5.22093646e-02  8.15249986e-02 -1.55073906e-01 -1.05681819e-02\n",
            "  8.00332687e-02 -1.61067354e-01  1.61134278e-01 -4.52299111e-02\n",
            "  6.08492763e-02 -1.67997637e-01 -2.93040467e-02  1.32381367e-01]\n",
            "calculated embedding: [ 5.77830411e-02  1.94456354e-01 -2.19950899e-01 -3.78643535e-02\n",
            "  9.56407264e-02  4.53359969e-02  8.85836128e-03 -1.45602450e-01\n",
            " -4.53000925e-02  2.39745450e+00 -2.43452176e-01 -1.15168363e-01\n",
            "  7.67919049e-02 -3.75229083e-02 -3.66774261e-01 -2.93011479e-02\n",
            " -1.47375271e-01  1.11763370e+00 -1.02154732e-01 -1.30321989e-02\n",
            " -3.26862708e-02  1.12621538e-01 -8.88800062e-03 -4.74057309e-02\n",
            "  5.76359145e-02 -2.09286213e-02 -2.14628633e-02 -1.40165001e-01\n",
            "  1.13103099e-01 -4.19531800e-02 -1.00099802e-01 -1.27693549e-01\n",
            " -6.14572596e-03  2.54744720e-02  8.97536427e-02  3.00560016e-02\n",
            "  7.57170990e-02  6.76214546e-02 -1.65086001e-01 -7.52437711e-02\n",
            "  1.71010010e-02 -2.83627287e-02 -8.08163583e-02  5.34527265e-02\n",
            "  2.79981866e-02  1.70090809e-01 -1.20148748e-01 -4.45693620e-02\n",
            " -1.18348815e-01 -6.59102127e-02 -1.07713267e-01  7.12039992e-02\n",
            "  1.02204541e-02  1.63156196e-01  3.67557406e-02  4.25188988e-02\n",
            " -7.49495476e-02 -7.51049966e-02 -3.92942689e-02 -7.31116310e-02\n",
            " -7.58016407e-02 -1.53665036e-01 -7.58426413e-02  1.45814538e-01\n",
            "  1.39052555e-01 -1.99691840e-02  3.19267809e-02  2.16017440e-01\n",
            "  1.60258133e-02  2.11663008e-01  1.29430652e-01  1.45465434e-02\n",
            "  2.75215894e-01 -3.38761769e-02  2.39774603e-02  1.34591851e-02\n",
            "  8.93220603e-02 -4.04253602e-02 -1.21790081e-01  2.81314641e-01\n",
            "  1.71319470e-01  9.96569917e-02 -6.07244521e-02  7.92801008e-03\n",
            "  7.88530931e-02 -5.62324524e-02  2.09131196e-01 -1.77664891e-01\n",
            "  1.87249988e-01  5.21639027e-02 -1.16070040e-01  1.21415980e-01\n",
            " -1.88078448e-01 -1.19548365e-01  9.60018113e-02 -4.38139103e-02\n",
            "  2.32090964e-03 -1.32953092e-01  8.41478705e-02  1.85054868e-01\n",
            " -8.41945037e-03 -2.99953651e-02  7.55881984e-03 -9.90392864e-02\n",
            "  7.50173628e-02 -5.58121324e-01  1.22538276e-01 -1.34616550e-02\n",
            "  3.80059145e-02  4.47868183e-02  4.05188203e-02 -2.27690279e-01\n",
            "  1.86875820e-01  5.14365472e-02  1.93801820e-01 -3.64411809e-02\n",
            " -1.44557301e-02 -5.25446385e-02  2.81055402e-02  1.81131884e-02\n",
            "  1.36125743e-01 -2.71609947e-02  1.64977228e-03 -8.94663334e-02\n",
            " -7.60962889e-02  9.75233540e-02 -8.70600343e-03 -1.89308658e-01\n",
            " -2.01377291e-02 -1.95053622e-01  8.55110958e-02 -6.78581819e-02\n",
            "  6.33580908e-02 -1.04210012e-01  8.33785534e-03 -8.84336513e-03\n",
            "  7.29555786e-02  3.47474553e-02 -4.32326384e-02 -3.76250595e-02\n",
            " -1.72876632e+00 -3.99908703e-03  2.39697650e-01 -9.18780044e-02\n",
            " -2.08243653e-02 -1.48534998e-01 -1.85276210e-01 -3.39964591e-02\n",
            "  3.64831835e-02 -5.29532693e-02 -1.70573100e-01  1.33184642e-01\n",
            "  5.06642908e-02 -1.11329272e-01 -5.35878167e-02 -1.18754603e-01\n",
            "  2.14977264e-02  7.34829009e-02  6.99280053e-02 -1.67445555e-01\n",
            " -2.42386729e-01  6.83415532e-02  2.06939504e-02 -6.72362046e-04\n",
            "  1.20769568e-01 -1.90180823e-01  2.52816360e-02 -5.28243557e-02\n",
            "  2.73993820e-01  3.08701806e-02  6.67453604e-03 -3.34038176e-02\n",
            " -1.81572617e-03 -1.70713007e-01 -1.31287863e-02  9.71101001e-02\n",
            " -7.00697303e-02  1.47352424e-02 -9.59532708e-02  4.13172506e-02\n",
            " -4.61540855e-02 -1.29487813e-01 -1.83645815e-01 -6.30893409e-02\n",
            " -7.71036446e-02  7.90366810e-03  5.18748956e-03  8.91946331e-02\n",
            "  3.44340913e-02 -3.21366377e-02 -3.08750924e-02  4.77984548e-02\n",
            " -1.63953856e-01  3.89653980e-03 -4.24803644e-02  9.74003598e-02\n",
            "  5.23957275e-02 -8.01101923e-02 -8.79954547e-02  6.12446330e-02\n",
            " -3.98226343e-02 -3.16522792e-02 -7.91558996e-02 -1.51726389e-02\n",
            "  2.19831899e-01 -1.16004497e-02 -2.59728972e-02 -6.55533299e-02\n",
            "  7.10451603e-02  1.31500848e-02 -9.51937363e-02 -1.72458276e-01\n",
            " -5.34484498e-02 -1.76113456e-01 -6.88379258e-03  1.34982362e-01\n",
            " -1.33643910e-01 -1.31464005e-01 -1.90599099e-01  3.11936382e-02\n",
            " -9.91306379e-02 -8.06855857e-02 -7.12927282e-02  1.50225461e-01\n",
            "  4.54660021e-02 -6.76870942e-02  6.99320715e-03  1.03146367e-01\n",
            " -2.00237855e-02  1.05326630e-01  2.77101826e-02  4.09435891e-02\n",
            "  6.43917769e-02  8.79969969e-02  5.44019565e-02 -1.15093820e-01\n",
            " -3.51989083e-02 -1.92908093e-01 -1.69472903e-01  2.49583095e-01\n",
            "  1.08928911e-01  1.09352827e-01 -6.13416098e-02  1.68795913e-01\n",
            " -1.93802733e-02 -1.37902275e-01 -1.17174223e-01 -9.32242796e-02\n",
            " -9.72017497e-02  5.91333658e-02 -1.08551003e-01 -1.68897539e-01\n",
            " -1.18406983e-02  3.81493033e-03  2.55680457e-02  3.11935812e-01\n",
            "  5.55644147e-02 -1.61560282e-01 -4.84270900e-02  4.29910049e-02\n",
            "  1.38611004e-01  1.44780919e-01  2.61982325e-02  1.22238010e-01\n",
            "  1.61081806e-01 -8.24994519e-02 -2.62260921e-02  1.13906451e-01\n",
            "  2.47419029e-01  8.57679397e-02 -1.04208142e-02  1.13211805e-02\n",
            " -1.67034730e-01 -2.26016000e-01 -1.49370879e-02  1.76304951e-01\n",
            " -1.41990290e-03  2.01474018e-02  1.89876169e-01  3.07975382e-01\n",
            "  7.46171772e-02 -1.47969633e-01 -3.28390263e-02  8.42370465e-02\n",
            "  1.21962661e-02 -5.07738143e-02  1.59365445e-01 -7.19816387e-02\n",
            " -5.22093661e-02  8.15249979e-02 -1.55073911e-01 -1.05681811e-02\n",
            "  8.00332725e-02 -1.61067352e-01  1.61134288e-01 -4.52299155e-02\n",
            "  6.08492754e-02 -1.67997643e-01 -2.93040462e-02  1.32381380e-01]\n",
            "Success!\n",
            "text: ['thing', 'still', 'text', 'enjoy', 'here', 'then', 'dun', 'anything', 'guy', 'weekly']\n",
            "Success!\n",
            "text: ['vouchers', 'sleep', 'who', 'some', 'aight', 'little', 'full', 'as', 'leave', 'shopping']\n",
            "Success!\n",
            "text: ['bed', 'use', 'messages', 'my', 'am', 'last', 'morning', 'never', 'cool', 'name']\n",
            "Success!\n",
            "text: ['show', 'wan', 'word', 'wat', 'part', 'on', 'find', '1000', 'apply', 'hello']\n",
            "Success!\n",
            "text: ['beautiful', 'actually', 'gt', 'just', 'full', 'without', 'back', 'sms', '150ppm', 'cost']\n",
            "Success!\n",
            "text: ['speak', 'let', 'around', 'much', 'room', 'yo', 'ok', 'half', 'coming', 'cost']\n",
            "Success!\n",
            "text: ['he', 'word', 'dis', 'heart', 'make', 'while', 'tmr', 'why', 'getting', 'many']\n",
            "Success!\n",
            "text: ['pick', 'dun', 'after', 'music', 'xxx', 'know', 'being', 'big', 'pick', 'service']\n",
            "Success!\n",
            "text: ['gud', 'much', 'didnt', 'next', 'txt', 'ready', 'for', 'want', 'driving', 'friends']\n",
            "Success!\n",
            "text: ['xxx', 'stuff', 'win', 'mobile', 'da', 'to', 'than', 'offer', 'lot', 'guy']\n",
            "Success!\n",
            "text: ['ask', 'without', 'got', 'love', 'always', 'school', 'one', 'those', 'thk', 'able']\n",
            "Success!\n",
            "text: ['pain', 'tell', 'out', 'are', 'guaranteed', 'again', 'person', 'messages', 'years', 'them']\n",
            "Success!\n",
            "text: ['everything', 'weekly', 'sleep', 'why', 'face', 'com', 'say', 'phone', 'next', 'it']\n",
            "Success!\n",
            "text: ['walk', 'ready', 'bed', 'free', 'haven', 'bored', 'hear', 'dreams', 'first', 'over']\n",
            "Success!\n"
          ]
        }
      ],
      "source": [
        "# TEST FOR THE get_document_embedding_from_spacy function\n",
        "for test_num in range(15):\n",
        "  sample_token_indices = np.random.randint(0,500, size=10)\n",
        "  input_text = [index_to_token(index, VOCAB) for index in sample_token_indices]\n",
        "  input_text_as_str = \" \".join(input_text)\n",
        "  print(f\"text: {input_text}\")\n",
        "  if test_num == 0:\n",
        "    print(f\"your embedding: {get_document_embedding_from_spacy(input_text_as_str)}\")\n",
        "    print(f\"calculated embedding: {spacy_pipeline(input_text_as_str).vector}\")\n",
        "  assert np.isclose(get_document_embedding_from_spacy(input_text_as_str), spacy_pipeline(input_text_as_str).vector).all()\n",
        "  print(\"Success!\")"
      ]
    },
    {
      "cell_type": "code",
      "execution_count": null,
      "metadata": {
        "colab": {
          "base_uri": "https://localhost:8080/"
        },
        "id": "wsTeOHpY2g0w",
        "outputId": "022d267c-81f8-4466-9df9-72e410bf0e52"
      },
      "outputs": [
        {
          "name": "stdout",
          "output_type": "stream",
          "text": [
            " Logistic Regression on Word2Vec embedding; accuracy on validation data: 0.9677033492822966\n"
          ]
        }
      ],
      "source": [
        "# This might take around 1 minute to run\n",
        "X_train_spacy = np.vstack([get_document_embedding_from_spacy(x) for x in X_train])\n",
        "X_valid_spacy = np.vstack([get_document_embedding_from_spacy(x) for x in X_val])\n",
        "logreg_w2v = LogisticRegression(random_state=1, max_iter=1000).fit(X_train_spacy, y_train)\n",
        "print(f\" Logistic Regression on Word2Vec embedding; accuracy on validation data: {accuracy_score(y_val , logreg_w2v.predict(X_valid_spacy))}\")"
      ]
    },
    {
      "cell_type": "markdown",
      "metadata": {
        "id": "CUgPJT303570"
      },
      "source": [
        "### Q2.f.b [2 points] Implement the function get_document_embedding_from_spacy_alt below to return the document embedding based on the token vectors.\n",
        "\n",
        "Feel free to let your imagination run, or go with simplicity. Don't use the average as above. Feel free to play around and see what works and what doesn't."
      ]
    },
    {
      "cell_type": "code",
      "execution_count": null,
      "metadata": {
        "id": "4PK2CpdcuOil"
      },
      "outputs": [],
      "source": [
        "def get_document_embedding_from_spacy_alt(text:str) -> np.ndarray:\n",
        "  \"\"\"\n",
        "  returns the embedding vector representing the entire text by whatever means you\n",
        "  would like based on the token level embeddings\n",
        "  \"\"\"\n",
        "  tokens = spacy_pipeline(text)\n",
        "  \n",
        "  document_embedding = np.amax(tokens.vector, axis=0) # using the columnwise max\n",
        "\n",
        "  return document_embedding"
      ]
    },
    {
      "cell_type": "code",
      "execution_count": null,
      "metadata": {
        "id": "UrgKFCLjp2ko"
      },
      "outputs": [],
      "source": [
        "# This might take around a 1 minute\n",
        "X_train_spacy_alt = np.vstack([get_document_embedding_from_spacy_alt(x) for x in X_train])\n",
        "X_valid_spacy_alt = np.vstack([get_document_embedding_from_spacy_alt(x) for x in X_val])\n",
        "logreg_w2v_alt = LogisticRegression(random_state=1, max_iter=1000).fit(X_train_spacy_alt, y_train)\n",
        "print(f\" Logistic Regression on Word2Vec alternative embedding; accuracy on validation data: {accuracy_score(y_val , logreg_w2v_alt.predict(X_valid_spacy_alt))}\")"
      ]
    },
    {
      "cell_type": "markdown",
      "metadata": {
        "id": "IzxBMiHBvaum"
      },
      "source": [
        "## Combining Embeddings [Free]"
      ]
    },
    {
      "cell_type": "code",
      "execution_count": null,
      "metadata": {
        "id": "eMx3NlAquqMG"
      },
      "outputs": [],
      "source": [
        "X_train_combined = np.hstack((X_train_spacy, vectorized_data_auto.toarray()))\n",
        "X_val_combined = np.hstack((X_valid_spacy, vectorizer_auto.transform(X_val).toarray()))\n",
        "logreg_combined = LogisticRegression(random_state=1, max_iter=1000).fit(X_train_combined, y_train)\n",
        "print(f\" Logistic Regression on combined W2V and BoW embeddings; accuracy on validation data: {logreg_combined.score(X_val_combined, y_val)}\")"
      ]
    },
    {
      "cell_type": "markdown",
      "metadata": {
        "id": "kN4fRAjfxioQ"
      },
      "source": [
        "##[2 points] Q2.g Transformer Model\n",
        "\n",
        "Below we will be using embeddings produced by a \"Transformer\" model (we will learn more about these in week 12/13), for the embedding of each token, it aims to incorporate not only the meaning of the token, but also the specific context in which it occurs here, with the context being a fixed window of size 512."
      ]
    },
    {
      "cell_type": "code",
      "execution_count": null,
      "metadata": {
        "id": "fWudJJ2Qxhxn"
      },
      "outputs": [],
      "source": [
        "from transformers import AutoTokenizer, AutoModelForSequenceClassification\n",
        "\n",
        "tokenizer = AutoTokenizer.from_pretrained(\"mrm8488/bert-tiny-finetuned-sms-spam-detection\") # This model has been trained on this data\n",
        "\n",
        "model = AutoModelForSequenceClassification.from_pretrained(\"mrm8488/bert-tiny-finetuned-sms-spam-detection\", output_hidden_states = True)"
      ]
    },
    {
      "cell_type": "markdown",
      "metadata": {
        "id": "1F6WNlHq57yJ"
      },
      "source": [
        "### Q2.g.a [2 points] Finish the implementation of get_embedding_from_transformer to produce a document level embedding given some text. "
      ]
    },
    {
      "cell_type": "code",
      "execution_count": null,
      "metadata": {
        "id": "u49GVcFtxsV4"
      },
      "outputs": [],
      "source": [
        "def get_embedding_from_transformer(text:str) -> np.ndarray:\n",
        "  \"\"\"\n",
        "  Returns an embedding from a transformer model produced by averaging the token level embeddings\n",
        "  \"\"\"\n",
        "  tokenized = tokenizer([text])\n",
        "  for key, value in tokenized.items():\n",
        "    tokenized[key] = torch.LongTensor(value)\n",
        "  with torch.no_grad():\n",
        "    token_embeddings = model.forward(**tokenized)[\"hidden_states\"][0].numpy()[0]\n",
        "  # print(token_embeddings.shape)\n",
        "  document_embedding = np.mean(token_embeddings, axis=0)\n",
        "  return document_embedding"
      ]
    },
    {
      "cell_type": "code",
      "execution_count": null,
      "metadata": {
        "id": "e2zZOpJb6ZNt"
      },
      "outputs": [],
      "source": [
        "# JUST SOME TESTING THAT IT RUNS AND PRODUCES THE RIGHT SIZE\n",
        "for e in [get_embedding_from_transformer(x) for x in X_train[:3]]:\n",
        "  assert e.shape == (128,)"
      ]
    },
    {
      "cell_type": "code",
      "execution_count": null,
      "metadata": {
        "id": "RQ_EvOXAylxs"
      },
      "outputs": [],
      "source": [
        "# This might take around a 1 minute\n",
        "X_train_transformer = np.vstack([get_embedding_from_transformer(x) for x in X_train])\n",
        "X_valid_transformer = np.vstack([get_embedding_from_transformer(x) for x in X_val])\n",
        "logreg_transformer = LogisticRegression(random_state=1, max_iter=1000).fit(X_train_transformer, y_train)\n",
        "print(f\" Logistic Regression on Transformer embedding accuracy on validation: {logreg_transformer.score(X_valid_transformer, y_val)}\")"
      ]
    },
    {
      "cell_type": "markdown",
      "metadata": {
        "id": "RLt2Q4iWfeP9"
      },
      "source": [
        "## Q2.h [3 points] Which spam detection method worked best? Why do you think that is? What are some considerations you would need to make to use this model in practice? "
      ]
    },
    {
      "cell_type": "markdown",
      "metadata": {
        "id": "P5LEwqxPpz_P"
      },
      "source": [
        "We say that the spam detection method that worked the best is the one with the highest accuracy. Thus, the best spam detection method based on our findings is the Logistic Regression on Transformer embedding. \n",
        "\n",
        "That is because it aims to incorporate not only the meaning of the token, but also the specific context in which it occurs.\n",
        "\n",
        "On the philosophy of validation and accuracy as metrics towards analyzing the performance of models in spam detection, we may sufficiently conclude that the foremost requirement is a substantial amount of sample data in both spam and non-spam cases."
      ]
    }
  ],
  "metadata": {
    "colab": {
      "collapsed_sections": [
        "MWyKRONCVFYD"
      ],
      "name": "414 Solo Assignment 3-2.ipynb",
      "provenance": []
    },
    "kernelspec": {
      "display_name": "Python 3",
      "language": "python",
      "name": "python3"
    },
    "language_info": {
      "codemirror_mode": {
        "name": "ipython",
        "version": 3
      },
      "file_extension": ".py",
      "mimetype": "text/x-python",
      "name": "python",
      "nbconvert_exporter": "python",
      "pygments_lexer": "ipython3",
      "version": "3.8.8"
    },
    "widgets": {
      "application/vnd.jupyter.widget-state+json": {
        "096cf2df2a6d4528abeb278a9052a2e3": {
          "model_module": "@jupyter-widgets/controls",
          "model_module_version": "1.5.0",
          "model_name": "HTMLModel",
          "state": {
            "_dom_classes": [],
            "_model_module": "@jupyter-widgets/controls",
            "_model_module_version": "1.5.0",
            "_model_name": "HTMLModel",
            "_view_count": null,
            "_view_module": "@jupyter-widgets/controls",
            "_view_module_version": "1.5.0",
            "_view_name": "HTMLView",
            "description": "",
            "description_tooltip": null,
            "layout": "IPY_MODEL_286c0d606def4bef863dce56c054edf3",
            "placeholder": "​",
            "style": "IPY_MODEL_2e6a5649710f4bf8b2c070f1d3062ff9",
            "value": "100%"
          }
        },
        "1349f6db6f404b85bb78e86f5b55bff9": {
          "model_module": "@jupyter-widgets/controls",
          "model_module_version": "1.5.0",
          "model_name": "DescriptionStyleModel",
          "state": {
            "_model_module": "@jupyter-widgets/controls",
            "_model_module_version": "1.5.0",
            "_model_name": "DescriptionStyleModel",
            "_view_count": null,
            "_view_module": "@jupyter-widgets/base",
            "_view_module_version": "1.2.0",
            "_view_name": "StyleView",
            "description_width": ""
          }
        },
        "1c0e7c008f8a4c01a2687786c953c987": {
          "model_module": "@jupyter-widgets/base",
          "model_module_version": "1.2.0",
          "model_name": "LayoutModel",
          "state": {
            "_model_module": "@jupyter-widgets/base",
            "_model_module_version": "1.2.0",
            "_model_name": "LayoutModel",
            "_view_count": null,
            "_view_module": "@jupyter-widgets/base",
            "_view_module_version": "1.2.0",
            "_view_name": "LayoutView",
            "align_content": null,
            "align_items": null,
            "align_self": null,
            "border": null,
            "bottom": null,
            "display": null,
            "flex": null,
            "flex_flow": null,
            "grid_area": null,
            "grid_auto_columns": null,
            "grid_auto_flow": null,
            "grid_auto_rows": null,
            "grid_column": null,
            "grid_gap": null,
            "grid_row": null,
            "grid_template_areas": null,
            "grid_template_columns": null,
            "grid_template_rows": null,
            "height": null,
            "justify_content": null,
            "justify_items": null,
            "left": null,
            "margin": null,
            "max_height": null,
            "max_width": null,
            "min_height": null,
            "min_width": null,
            "object_fit": null,
            "object_position": null,
            "order": null,
            "overflow": null,
            "overflow_x": null,
            "overflow_y": null,
            "padding": null,
            "right": null,
            "top": null,
            "visibility": null,
            "width": null
          }
        },
        "286c0d606def4bef863dce56c054edf3": {
          "model_module": "@jupyter-widgets/base",
          "model_module_version": "1.2.0",
          "model_name": "LayoutModel",
          "state": {
            "_model_module": "@jupyter-widgets/base",
            "_model_module_version": "1.2.0",
            "_model_name": "LayoutModel",
            "_view_count": null,
            "_view_module": "@jupyter-widgets/base",
            "_view_module_version": "1.2.0",
            "_view_name": "LayoutView",
            "align_content": null,
            "align_items": null,
            "align_self": null,
            "border": null,
            "bottom": null,
            "display": null,
            "flex": null,
            "flex_flow": null,
            "grid_area": null,
            "grid_auto_columns": null,
            "grid_auto_flow": null,
            "grid_auto_rows": null,
            "grid_column": null,
            "grid_gap": null,
            "grid_row": null,
            "grid_template_areas": null,
            "grid_template_columns": null,
            "grid_template_rows": null,
            "height": null,
            "justify_content": null,
            "justify_items": null,
            "left": null,
            "margin": null,
            "max_height": null,
            "max_width": null,
            "min_height": null,
            "min_width": null,
            "object_fit": null,
            "object_position": null,
            "order": null,
            "overflow": null,
            "overflow_x": null,
            "overflow_y": null,
            "padding": null,
            "right": null,
            "top": null,
            "visibility": null,
            "width": null
          }
        },
        "2a80b85e68ad4282ba783c797609f0b7": {
          "model_module": "@jupyter-widgets/controls",
          "model_module_version": "1.5.0",
          "model_name": "FloatProgressModel",
          "state": {
            "_dom_classes": [],
            "_model_module": "@jupyter-widgets/controls",
            "_model_module_version": "1.5.0",
            "_model_name": "FloatProgressModel",
            "_view_count": null,
            "_view_module": "@jupyter-widgets/controls",
            "_view_module_version": "1.5.0",
            "_view_name": "ProgressView",
            "bar_style": "success",
            "description": "",
            "description_tooltip": null,
            "layout": "IPY_MODEL_90e1adccc17d4be18d4b2acd45781920",
            "max": 1,
            "min": 0,
            "orientation": "horizontal",
            "style": "IPY_MODEL_6c14746adc894090ab69ed81222578d6",
            "value": 1
          }
        },
        "2e6a5649710f4bf8b2c070f1d3062ff9": {
          "model_module": "@jupyter-widgets/controls",
          "model_module_version": "1.5.0",
          "model_name": "DescriptionStyleModel",
          "state": {
            "_model_module": "@jupyter-widgets/controls",
            "_model_module_version": "1.5.0",
            "_model_name": "DescriptionStyleModel",
            "_view_count": null,
            "_view_module": "@jupyter-widgets/base",
            "_view_module_version": "1.2.0",
            "_view_name": "StyleView",
            "description_width": ""
          }
        },
        "47ecf0729e0e4254b9e8ee8799046881": {
          "model_module": "@jupyter-widgets/controls",
          "model_module_version": "1.5.0",
          "model_name": "HBoxModel",
          "state": {
            "_dom_classes": [],
            "_model_module": "@jupyter-widgets/controls",
            "_model_module_version": "1.5.0",
            "_model_name": "HBoxModel",
            "_view_count": null,
            "_view_module": "@jupyter-widgets/controls",
            "_view_module_version": "1.5.0",
            "_view_name": "HBoxView",
            "box_style": "",
            "children": [
              "IPY_MODEL_096cf2df2a6d4528abeb278a9052a2e3",
              "IPY_MODEL_2a80b85e68ad4282ba783c797609f0b7",
              "IPY_MODEL_f2e46b810c2f418fb03425f4d340a1ff"
            ],
            "layout": "IPY_MODEL_efe8416bb61f48f2a2ea5a9577eaf9e5"
          }
        },
        "6c14746adc894090ab69ed81222578d6": {
          "model_module": "@jupyter-widgets/controls",
          "model_module_version": "1.5.0",
          "model_name": "ProgressStyleModel",
          "state": {
            "_model_module": "@jupyter-widgets/controls",
            "_model_module_version": "1.5.0",
            "_model_name": "ProgressStyleModel",
            "_view_count": null,
            "_view_module": "@jupyter-widgets/base",
            "_view_module_version": "1.2.0",
            "_view_name": "StyleView",
            "bar_color": null,
            "description_width": ""
          }
        },
        "90e1adccc17d4be18d4b2acd45781920": {
          "model_module": "@jupyter-widgets/base",
          "model_module_version": "1.2.0",
          "model_name": "LayoutModel",
          "state": {
            "_model_module": "@jupyter-widgets/base",
            "_model_module_version": "1.2.0",
            "_model_name": "LayoutModel",
            "_view_count": null,
            "_view_module": "@jupyter-widgets/base",
            "_view_module_version": "1.2.0",
            "_view_name": "LayoutView",
            "align_content": null,
            "align_items": null,
            "align_self": null,
            "border": null,
            "bottom": null,
            "display": null,
            "flex": null,
            "flex_flow": null,
            "grid_area": null,
            "grid_auto_columns": null,
            "grid_auto_flow": null,
            "grid_auto_rows": null,
            "grid_column": null,
            "grid_gap": null,
            "grid_row": null,
            "grid_template_areas": null,
            "grid_template_columns": null,
            "grid_template_rows": null,
            "height": null,
            "justify_content": null,
            "justify_items": null,
            "left": null,
            "margin": null,
            "max_height": null,
            "max_width": null,
            "min_height": null,
            "min_width": null,
            "object_fit": null,
            "object_position": null,
            "order": null,
            "overflow": null,
            "overflow_x": null,
            "overflow_y": null,
            "padding": null,
            "right": null,
            "top": null,
            "visibility": null,
            "width": null
          }
        },
        "efe8416bb61f48f2a2ea5a9577eaf9e5": {
          "model_module": "@jupyter-widgets/base",
          "model_module_version": "1.2.0",
          "model_name": "LayoutModel",
          "state": {
            "_model_module": "@jupyter-widgets/base",
            "_model_module_version": "1.2.0",
            "_model_name": "LayoutModel",
            "_view_count": null,
            "_view_module": "@jupyter-widgets/base",
            "_view_module_version": "1.2.0",
            "_view_name": "LayoutView",
            "align_content": null,
            "align_items": null,
            "align_self": null,
            "border": null,
            "bottom": null,
            "display": null,
            "flex": null,
            "flex_flow": null,
            "grid_area": null,
            "grid_auto_columns": null,
            "grid_auto_flow": null,
            "grid_auto_rows": null,
            "grid_column": null,
            "grid_gap": null,
            "grid_row": null,
            "grid_template_areas": null,
            "grid_template_columns": null,
            "grid_template_rows": null,
            "height": null,
            "justify_content": null,
            "justify_items": null,
            "left": null,
            "margin": null,
            "max_height": null,
            "max_width": null,
            "min_height": null,
            "min_width": null,
            "object_fit": null,
            "object_position": null,
            "order": null,
            "overflow": null,
            "overflow_x": null,
            "overflow_y": null,
            "padding": null,
            "right": null,
            "top": null,
            "visibility": null,
            "width": null
          }
        },
        "f2e46b810c2f418fb03425f4d340a1ff": {
          "model_module": "@jupyter-widgets/controls",
          "model_module_version": "1.5.0",
          "model_name": "HTMLModel",
          "state": {
            "_dom_classes": [],
            "_model_module": "@jupyter-widgets/controls",
            "_model_module_version": "1.5.0",
            "_model_name": "HTMLModel",
            "_view_count": null,
            "_view_module": "@jupyter-widgets/controls",
            "_view_module_version": "1.5.0",
            "_view_name": "HTMLView",
            "description": "",
            "description_tooltip": null,
            "layout": "IPY_MODEL_1c0e7c008f8a4c01a2687786c953c987",
            "placeholder": "​",
            "style": "IPY_MODEL_1349f6db6f404b85bb78e86f5b55bff9",
            "value": " 1/1 [00:00&lt;00:00, 27.96it/s]"
          }
        }
      }
    }
  },
  "nbformat": 4,
  "nbformat_minor": 0
}